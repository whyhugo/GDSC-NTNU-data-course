{
 "cells": [
  {
   "cell_type": "code",
   "execution_count": null,
   "id": "f5ba3952-e813-4e7c-81a3-d5703bc3d8a1",
   "metadata": {},
   "outputs": [],
   "source": [
    "import numpy as np\n",
    "import pandas as pd"
   ]
  },
  {
   "cell_type": "code",
   "execution_count": null,
   "id": "976efcf5-9d84-4bb4-989f-a547a40fa69e",
   "metadata": {},
   "outputs": [],
   "source": [
    "df1 = pd.read_csv('Open_data/貓空纜車系統旅運量統計表_202301-202309.csv', encoding='big5')\n",
    "df1"
   ]
  },
  {
   "cell_type": "code",
   "execution_count": null,
   "id": "359620bd-3994-4583-abde-9d479155c281",
   "metadata": {},
   "outputs": [],
   "source": [
    "weather = pd.read_csv('Open_data/6-112年7月氣象月報表.csv', encoding='big5')\n",
    "weather"
   ]
  },
  {
   "cell_type": "markdown",
   "id": "a5f89369-2095-43e6-a6df-e2d60cf6af83",
   "metadata": {},
   "source": []
  }
 ],
 "metadata": {
  "kernelspec": {
   "display_name": "Python 3 (ipykernel)",
   "language": "python",
   "name": "python3"
  },
  "language_info": {
   "codemirror_mode": {
    "name": "ipython",
    "version": 3
   },
   "file_extension": ".py",
   "mimetype": "text/x-python",
   "name": "python",
   "nbconvert_exporter": "python",
   "pygments_lexer": "ipython3",
   "version": "3.10.11"
  }
 },
 "nbformat": 4,
 "nbformat_minor": 5
}
