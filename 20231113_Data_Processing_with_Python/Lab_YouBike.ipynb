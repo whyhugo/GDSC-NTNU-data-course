{
 "cells": [
  {
   "cell_type": "markdown",
   "metadata": {},
   "source": [
    "### 找出 2023 年 5 月臺北市 YouBike 熱門站點的建置成本與金額總體排名"
   ]
  },
  {
   "cell_type": "code",
   "execution_count": null,
   "metadata": {},
   "outputs": [],
   "source": [
    "import pandas as pd\n",
    "import numpy as np"
   ]
  },
  {
   "cell_type": "code",
   "execution_count": null,
   "metadata": {},
   "outputs": [],
   "source": [
    "df1 = pd.read_csv('Open_data/YouBike/YouBike場站建置成本.csv', encoding='big5')\n",
    "df1"
   ]
  },
  {
   "cell_type": "code",
   "execution_count": null,
   "metadata": {},
   "outputs": [],
   "source": [
    "df2 = pd.read_csv('Open_data\\YouBike\\YouBike站位每月熱門站點.csv', encoding='big5')\n",
    "df2"
   ]
  },
  {
   "cell_type": "code",
   "execution_count": null,
   "metadata": {},
   "outputs": [],
   "source": [
    "df1['金額（土木施工費用）'] = df1['金額（土木施工費用）'].replace(',', '', regex=True)\n",
    "df1"
   ]
  },
  {
   "cell_type": "code",
   "execution_count": null,
   "metadata": {},
   "outputs": [],
   "source": [
    "df1['金額（土木施工費用）'] = df1['金額（土木施工費用）'].astype(int)\n",
    "df1"
   ]
  },
  {
   "cell_type": "code",
   "execution_count": null,
   "metadata": {},
   "outputs": [],
   "source": [
    "df1 = df1.sort_values(by='金額（土木施工費用）', ascending=False, ignore_index=True)\n",
    "df1"
   ]
  },
  {
   "cell_type": "code",
   "execution_count": null,
   "metadata": {
    "scrolled": true
   },
   "outputs": [],
   "source": [
    "rank = [1]\n",
    "for i in range(1, len(df1)):\n",
    "    if df1.iloc[i, 2] < df1.iloc[i-1, 2]:\n",
    "        rank.append(i+1)\n",
    "    else:\n",
    "        rank.append(rank[i-1])\n",
    "\n",
    "df1['排名'] = rank\n",
    "df1"
   ]
  },
  {
   "cell_type": "code",
   "execution_count": null,
   "metadata": {},
   "outputs": [],
   "source": [
    "fund = []\n",
    "rank_ = []\n",
    "\n",
    "for i in df2['站位名稱']:\n",
    "    count = 0\n",
    "    for j in df1['站名']:\n",
    "        if i == j:\n",
    "            fund.append(df1.iloc[count, 2])\n",
    "            rank_.append(df1.iloc[count, 3])\n",
    "            break\n",
    "        if count == len(df1)-1:\n",
    "            fund.append(np.nan)\n",
    "            rank_.append(np.nan)\n",
    "        count += 1\n",
    "df2['建置成本'] = fund\n",
    "df2['成本總體排名'] = rank_\n",
    "df2"
   ]
  },
  {
   "cell_type": "code",
   "execution_count": null,
   "metadata": {},
   "outputs": [],
   "source": [
    "df2.to_csv('YouBike熱門站點與建置成本.csv', encoding='utf-8')"
   ]
  }
 ],
 "metadata": {
  "kernelspec": {
   "display_name": "Python 3 (ipykernel)",
   "language": "python",
   "name": "python3"
  },
  "language_info": {
   "codemirror_mode": {
    "name": "ipython",
    "version": 3
   },
   "file_extension": ".py",
   "mimetype": "text/x-python",
   "name": "python",
   "nbconvert_exporter": "python",
   "pygments_lexer": "ipython3",
   "version": "3.10.11"
  }
 },
 "nbformat": 4,
 "nbformat_minor": 4
}
