{
 "cells": [
  {
   "cell_type": "markdown",
   "id": "d87dd22d-7e46-4b03-8e80-1bf05d5f4dce",
   "metadata": {},
   "source": [
    "# Web Scraping with Python\n",
    "> GDSC NTNU<br>\n",
    "> 講者：Hugo"
   ]
  },
  {
   "cell_type": "markdown",
   "id": "065c0b89-2414-420f-8092-b88bb10d4da0",
   "metadata": {},
   "source": [
    "## `import` 今天要使用的套件"
   ]
  },
  {
   "cell_type": "code",
   "execution_count": 30,
   "id": "34649a24-db85-41e8-b6b0-1d1e35efb5fe",
   "metadata": {},
   "outputs": [],
   "source": [
    "import requests as rq\n",
    "from bs4 import BeautifulSoup as soup\n",
    "from selenium import webdriver\n",
    "import time"
   ]
  },
  {
   "cell_type": "markdown",
   "id": "545a793e-0274-44a7-a548-852b1a0393cf",
   "metadata": {},
   "source": [
    "## Requests\n",
    "### 發送 GET 請求"
   ]
  },
  {
   "cell_type": "code",
   "execution_count": null,
   "id": "86b675b2-4e0d-4068-bd17-d31bdaa1f2b3",
   "metadata": {},
   "outputs": [],
   "source": [
    "r = rq.get(\"https://www.google.com\")\n",
    "print(r.status_code) #content #status_code"
   ]
  },
  {
   "cell_type": "code",
   "execution_count": null,
   "id": "11531f45-b5e7-4b19-81d2-44c1e88726b3",
   "metadata": {
    "scrolled": true
   },
   "outputs": [],
   "source": [
    "r = rq.get(\"https://www.google.com\")\n",
    "if r.status_code == requests.codes.ok:\n",
    "    print(r.text)"
   ]
  },
  {
   "cell_type": "code",
   "execution_count": null,
   "id": "a2b467f6-c6c3-4bf7-af6b-629867cda1c2",
   "metadata": {},
   "outputs": [],
   "source": [
    "payload = {'key1': 'value1', 'key2': 'value2'}\n",
    "html = rq.get(\"http://httpbin.org/get\", params=payload)\n",
    "print(html.text)"
   ]
  },
  {
   "cell_type": "markdown",
   "id": "d9bb142b-e065-406d-8a71-8a509f6a2aba",
   "metadata": {},
   "source": [
    "### 發送 POST 請求"
   ]
  },
  {
   "cell_type": "code",
   "execution_count": null,
   "id": "a3b266a8-b4b9-4858-84eb-7fa7dba623fc",
   "metadata": {},
   "outputs": [],
   "source": [
    "payload = {'key1': 'value1', 'key2': 'value2'}\n",
    "r = rq.post(\"http://httpbin.org/post\", data=payload)\n",
    "print(r.text)"
   ]
  },
  {
   "cell_type": "markdown",
   "id": "a5310b88-509f-4484-893f-04e5ac6c55cd",
   "metadata": {},
   "source": [
    "### Lab01: 刷點閱次數 OuO"
   ]
  },
  {
   "cell_type": "code",
   "execution_count": null,
   "id": "c025e317-4b7d-49a7-b62e-f8ff9efc98f4",
   "metadata": {},
   "outputs": [],
   "source": [
    "url = 'https://www.aa.ntnu.edu.tw/zh_tw/News/%E6%9C%AC%E6%A0%A1%E5%AD%B8%E7%94%9F%E5%8A%A0%E9%81%B8%E8%87%BA%E5%A4%A7%E7%B3%BB%E7%B5%B1%E8%AA%B2%E7%A8%8B%E5%BE%8C-%E6%95%99%E5%AD%B8%E5%B9%B3%E5%8F%B0%E5%B8%B3%E8%99%9F-NTU-COOL-NTUST-Moodle-%E4%BD%BF%E7%94%A8%E8%AA%AA%E6%98%8E-90969108'\n",
    "\n",
    "times = int(input('我要新增點閱次數？次'))\n",
    "\n",
    "for i in range(times):\n",
    "    rq.get(url)\n",
    "    #time.sleep(2)\n",
    "print('Done!')"
   ]
  },
  {
   "cell_type": "markdown",
   "id": "c496a3a3-c5e9-40b5-ab2c-a1a73c9bdcdb",
   "metadata": {},
   "source": [
    "## Beautiful Soup"
   ]
  },
  {
   "cell_type": "markdown",
   "id": "9058a919-ccc7-43b1-ab92-63689f0e78af",
   "metadata": {},
   "source": [
    "常用屬性"
   ]
  },
  {
   "cell_type": "code",
   "execution_count": null,
   "id": "153e73d9-0a2f-4026-acb2-9b29230edd12",
   "metadata": {},
   "outputs": [],
   "source": [
    "url = 'http://ehappy.tw/bsdemo1.htm'\n",
    "html = rq.get(url)\n",
    "html.encoding = 'UTF-8'\n",
    "sp = soup(html.text, 'lxml')\n",
    "\n",
    "print(sp.title)\n",
    "print(sp.title.text)\n",
    "print(sp.h1)\n",
    "print(sp.p)"
   ]
  },
  {
   "cell_type": "markdown",
   "id": "b4602101-fd28-45a0-9e84-cae41e8d72fd",
   "metadata": {},
   "source": [
    "`find()` & `find_all()`"
   ]
  },
  {
   "cell_type": "code",
   "execution_count": null,
   "id": "0b276251-9c0a-4801-bc08-74916a8cf35a",
   "metadata": {
    "scrolled": true
   },
   "outputs": [],
   "source": [
    "html = '''\n",
    "<html>\n",
    "  <head><meta charset=\"UTF-8\"><title>我是網頁標題</title></head>\n",
    "  <body>\n",
    "      <p id=\"p1\">我是段落一</p>\n",
    "      <p id=\"p2\" class='red'>我是段落二</p>\n",
    "  </body>\n",
    "</html>\n",
    "'''\n",
    "sp = soup(html, 'lxml')\n",
    "print(sp.find('p'))\n",
    "print(sp.find_all('p'))\n",
    "print(sp.find('p', {'id':'p2', 'class':'red'}))\n",
    "print(sp.find('p', id='p2', class_= 'red'))"
   ]
  },
  {
   "cell_type": "markdown",
   "id": "7a1845e6-1e47-413c-8a07-cb7aa1e8367e",
   "metadata": {},
   "source": [
    "`select()`"
   ]
  },
  {
   "cell_type": "code",
   "execution_count": 27,
   "id": "8651ed00-626f-43b1-9cc9-1b029ee57dd1",
   "metadata": {},
   "outputs": [
    {
     "name": "stdout",
     "output_type": "stream",
     "text": [
      "[<title>我是網頁標題</title>]\n",
      "[<p id=\"p1\">我是段落一</p>, <p class=\"red\" id=\"p2\">我是段落二</p>]\n",
      "[<p id=\"p1\">我是段落一</p>]\n",
      "[<p class=\"red\" id=\"p2\">我是段落二</p>]\n"
     ]
    }
   ],
   "source": [
    "html = '''\n",
    "<html>\n",
    "  <head><meta charset=\"UTF-8\"><title>我是網頁標題</title></head>\n",
    "  <body>\n",
    "      <p id=\"p1\">我是段落一</p>\n",
    "      <p id=\"p2\" class='red'>我是段落二</p>\n",
    "  </body>\n",
    "</html>\n",
    "'''\n",
    "sp = soup(html, 'lxml')\n",
    "print(sp.select('title'))\n",
    "print(sp.select('p'))\n",
    "print(sp.select('#p1'))\n",
    "print(sp.select('.red'))"
   ]
  },
  {
   "cell_type": "code",
   "execution_count": 29,
   "id": "2fef587e-f29c-4caf-af81-30a0401b00f6",
   "metadata": {},
   "outputs": [
    {
     "name": "stdout",
     "output_type": "stream",
     "text": [
      "http://www.ehappy.tw/python.png\n",
      "http://www.e-happy.com.tw\n",
      "http://www.ehappy.tw/python.png\n",
      "http://www.e-happy.com.tw\n"
     ]
    }
   ],
   "source": [
    "html = '''\n",
    "<html>\n",
    "  <head><meta charset=\"UTF-8\"><title>我是網頁標題</title></head>\n",
    "  <body>\n",
    "      <img src=\"http://www.ehappy.tw/python.png\">\n",
    "      <a href=\"http://www.e-happy.com.tw\">超連結</a>\n",
    "  </body>\n",
    "</html>\n",
    "'''\n",
    "sp = soup(html, 'lxml')\n",
    "print(sp.select('img')[0].get('src'))\n",
    "print(sp.select('a')[0].get('href'))\n",
    "print(sp.select('img')[0]['src'])\n",
    "print(sp.select('a')[0]['href'])"
   ]
  },
  {
   "cell_type": "code",
   "execution_count": 28,
   "id": "287f96db-f3bf-455c-ba61-34ef5bc27aef",
   "metadata": {},
   "outputs": [
    {
     "name": "stdout",
     "output_type": "stream",
     "text": [
      "<title>網頁標題</title>\n",
      "<h1>文件標題</h1>\n",
      "[<a class=\"red\" href=\"http://example.com/one\" id=\"link1\">First</a>, <a class=\"red\" href=\"http://example.com/two\" id=\"link2\">Second</a>, <a class=\"blue\" href=\"http://example.com/three\" id=\"link3\">\n",
      "<img src=\"http://example.com/three.jpg\"/>Third\n",
      "    </a>]\n",
      "[<a class=\"red\" href=\"http://example.com/one\" id=\"link1\">First</a>, <a class=\"red\" href=\"http://example.com/two\" id=\"link2\">Second</a>]\n",
      "First\n",
      "First\n",
      "http://example.com/one\n",
      "http://example.com/one\n",
      "[<title>網頁標題</title>, <h1>文件標題</h1>]\n",
      "http://example.com/three.jpg\n"
     ]
    }
   ],
   "source": [
    "html = \"\"\"\n",
    "<html><head><title>網頁標題</title></head>\n",
    "<h1>文件標題</h1>\n",
    "<div class=\"content\">\n",
    "    <div class=\"item1\">\n",
    "        <a href=\"http://example.com/one\" class=\"red\" id=\"link1\">First</a>\n",
    "        <a href=\"http://example.com/two\" class=\"red\" id=\"link2\">Second</a>\n",
    "    </div>\n",
    "    <a href=\"http://example.com/three\" class=\"blue\" id=\"link3\">\n",
    "        <img src=\"http://example.com/three.jpg\">Third\n",
    "    </a>\n",
    "</div>\n",
    "\"\"\"\n",
    "\n",
    "sp = soup(html,'lxml') \n",
    "\n",
    "print(sp.title) # <title>網頁標題</title>\n",
    "\n",
    "print(sp.find('h1')) # <h1>文件標題</h1>\n",
    "\n",
    "print(sp.find_all('a')) \n",
    "print(sp.find_all(\"a\", {\"class\":\"red\"}))\n",
    "\n",
    "data1=sp.find(\"a\", {\"href\":\"http://example.com/one\"})\n",
    "print(data1.text) # First\n",
    "\n",
    "data2 = sp.select(\"#link1\") \n",
    "print(data2[0].text) # First\n",
    "print(data2[0].get(\"href\")) # http://example.com/one\n",
    "print(data2[0][\"href\"])     # http://example.com/one\n",
    "\n",
    "print(sp.find_all(['title','h1'])) # [<title>網頁標題</title>, <h1>文件標題</h1>]\n",
    "\n",
    "print(sp.select('div img')[0]['src']) # http://example.com/three.jpg"
   ]
  },
  {
   "cell_type": "markdown",
   "id": "8fedbece-a5e3-4ceb-9485-6be4ecd793e8",
   "metadata": {},
   "source": [
    "### Lab02: 獲取新聞文本"
   ]
  },
  {
   "cell_type": "code",
   "execution_count": 26,
   "id": "4c0e9d2e-8dd4-4621-a875-91037adca08e",
   "metadata": {},
   "outputs": [
    {
     "name": "stdout",
     "output_type": "stream",
     "text": [
      "# 標題\n",
      " 泰國大選／回顧泰國20年動盪政局\n",
      "\n",
      "# 引言\n",
      " 泰國5月14日舉行國會眾議院大選，選民用壓倒性票數讓民主派的年輕勢力「前進黨」勝選，反映出對政壇世代交替、終結軍方統治的渴望，也讓眾議院睽違近10年再度政黨輪替。但現任總理帕拉育曾以軍事政變緊抓權力8年，新世代崛起可望改革成功？泰國現況是否類似台灣「黨外時期」？關心亞洲民主之路，讓我們一起來了解泰國政治。\n",
      "\n",
      "## 副標題\n",
      "21世紀泰國選舉新制 總理更換頻繁\n",
      "2014軍事政變 帕拉育掌權至今\n",
      "2020泰國學運 年輕世代掀民主改革 \n",
      "2023帕拉育爭連任 戴克辛為重返政壇鋪路\n",
      "泰國本屆大選 眾議院選舉結果\n",
      "\n",
      "## 內文\n",
      "泰國5月14日舉行國會眾議院大選，選民用壓倒性票數讓民主派的年輕勢力「前進黨」勝選，反映出對政壇世代交替、終結軍方統治的渴望，也讓眾議院睽違近10年再度政黨輪替。但現任總理帕拉育曾以軍事政變緊抓權力8年，新世代崛起可望改革成功？泰國現況是否類似台灣「黨外時期」？關心亞洲民主之路，讓我們一起來了解泰國政治。\n",
      "泰國自1932年改為君主立憲制，由總理組成政府，雖為民主國家，但仍遭逢多次軍事政變，政權不斷更迭，且國會選制複雜多變。\n",
      "2001年大選首採「單一選區兩票制」，由富商戴克辛領導的泰愛泰黨擊敗民主黨勝選，亦奠定兩黨制雛形。2005年大選戴克辛順利連任，但隨後被指控貪汙等引發爭議。\n",
      "2006年戴克辛發動閃電大選，後遭軍事政變，軍方推派素拉育成為第24任總理。泰愛泰黨雖已被解散，但親戴克辛的人民力量黨仍在2007年大選獲得勝利，卻也使泰國往後的「紅黃對立」白熱化。\n",
      "人民力量黨領袖薩瑪成第25任泰國總理，但黃衫軍抗議後不到8個月就下台。戴克辛妹婿宋猜就職總理未滿75天，人民力量黨遭解散。民主黨艾比希上任第27任總理，不過2010年爆發紅衫軍示威，2011年大選戴克辛胞妹盈拉帶領為泰黨重返執政。\n",
      "2013年盈拉因推動赦免法，被認為是為戴克辛回歸政壇鋪路，引發大規模抗議，最終遭軍方逮捕。帕拉育任看守總理，2017年新憲法頒布後，正式被任命為總理。2019年泰國恢復大選，帕拉育連任總理，繼續軍事統治。\n",
      "由於親軍方政黨輔助，加上參與總理票選的參議院250席皆被掌控，帕拉育無意外勝出，席次超越為泰黨和未來前進黨。戴克辛指控計票數有誤，大選有瑕疵。\n",
      "未來前進黨對軍政府直言無諱，受年輕選民歡迎，成立1年便成為國會第3大黨。黨魁塔納通卻因貸款給自己的政黨，被檢舉違反選舉法，2020年2月未來前進黨被解散。\n",
      "泰國爆發數個月示威抗議，各高中及大學遍地開花，3月下旬因新冠肺炎爆發活動終止，7月運動重啟，不過最終以警方鎮壓告終。\n",
      "上萬人上街要求帕拉育政府下台，成為2014年軍事政變以來規模最大的示威活動。\n",
      "學運3大訴求為「解散軍政府主導的國會、停止打壓異議人士、重新修正2017年軍方制定的新憲法」。\n",
      "泰國法政大學學生碰觸長年敏感的王室議題，提出10項訴求改革王室君主制，包括削減皇室預算、撤銷刑法112條「冒犯君主罪」，其法最高可被判處15年刑期。\n",
      "\n",
      "泰國總理任期不得超過8年，反對勢力認為，帕拉育總理任期應始於2014年，讓他依自己推動的新憲法下台。帕拉育雖在2022年8月底暫時停職，但最終憲法法庭仍裁定其任期從2017年計算，可至2025年。\n",
      "2023年眾議院議員4年任期已滿，泰國3月解散國會、5月舉行大選。角逐總理人選中有3位最受矚目——「年輕激進派」前進黨皮塔、「老黨新血」為泰黨貝東丹、「軍方舊勢力」現任總理拉帕育。\n",
      "眾議院選舉初步結果已宣布，不過仍須選舉委員會查驗選票，2個月後確認正式結果。之後由500名眾議員和軍方指派的250名參議員聯合投票新任總理，須獲得過半席次376票支持，預計今年7、8月揭曉總理當選人。\n",
      "眾議院500席中，前進黨共拿下152席，為泰黨獲得141席。現任總理帕拉育加入團結建國黨欲爭取連任總理，不過該黨在眾議院僅獲36席，位居第5。\n",
      "前進黨獲勝關鍵之一是因年輕選民大量湧入投票，他們為什麼如此受Z世代歡迎？\n",
      "前進黨總理候選人皮塔最受18到26歲群眾支持，公視在國會大選前獨家專訪，皮塔指出泰國人民在過去10年中，找不到任何希望。\n"
     ]
    }
   ],
   "source": [
    "url = 'https://news.pts.org.tw/curation/120'\n",
    "\n",
    "html = rq.get(url)\n",
    "sp = soup(html.text, 'lxml')\n",
    "\n",
    "title = sp.find('h1', class_='text-center').text\n",
    "print('# 標題\\n', title)\n",
    "\n",
    "summary = sp.find('div', class_='topic-summery position-relative').find('p').text\n",
    "print('\\n## 引言\\n', summary)\n",
    "\n",
    "subtitle = sp.find_all('h2', class_='title-col')\n",
    "print('\\n## 副標題')\n",
    "for i in subtitle:\n",
    "    print(i.text)\n",
    "\n",
    "content = sp.find_all('p')\n",
    "print('\\n## 內文')\n",
    "for j in content:\n",
    "    print(j.text)"
   ]
  },
  {
   "cell_type": "markdown",
   "id": "340c2e04-bedc-4ffe-be2c-b3e1b55f9733",
   "metadata": {},
   "source": [
    "## Selenium"
   ]
  },
  {
   "cell_type": "markdown",
   "id": "c17e096c-6012-4084-8a37-feb44307ea6a",
   "metadata": {},
   "source": [
    "### Lab03: 爬取 MLB.com stats"
   ]
  },
  {
   "cell_type": "code",
   "execution_count": null,
   "id": "52949ffd-49df-4943-af89-729d179e6f64",
   "metadata": {},
   "outputs": [],
   "source": []
  },
  {
   "cell_type": "markdown",
   "id": "bbb60fa0-1512-4d05-8120-1058a4b7bdd7",
   "metadata": {},
   "source": [
    "## It's your turn🫵\n",
    "### 如何快速存取表格資料"
   ]
  },
  {
   "cell_type": "code",
   "execution_count": null,
   "id": "a498177e-b72f-4161-bdf3-ce5ba388afc3",
   "metadata": {},
   "outputs": [],
   "source": []
  },
  {
   "cell_type": "markdown",
   "id": "91d93bd2-ad1c-422d-8148-6ae243b0682a",
   "metadata": {},
   "source": [
    "### 爬取 NBA.com stats"
   ]
  },
  {
   "cell_type": "code",
   "execution_count": null,
   "id": "efece0e0-66f3-4deb-a8ee-7009b47fd1e0",
   "metadata": {},
   "outputs": [],
   "source": []
  }
 ],
 "metadata": {
  "kernelspec": {
   "display_name": "Python 3 (ipykernel)",
   "language": "python",
   "name": "python3"
  },
  "language_info": {
   "codemirror_mode": {
    "name": "ipython",
    "version": 3
   },
   "file_extension": ".py",
   "mimetype": "text/x-python",
   "name": "python",
   "nbconvert_exporter": "python",
   "pygments_lexer": "ipython3",
   "version": "3.10.11"
  }
 },
 "nbformat": 4,
 "nbformat_minor": 5
}
