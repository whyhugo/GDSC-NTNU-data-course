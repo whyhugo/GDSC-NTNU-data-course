{
 "cells": [
  {
   "cell_type": "markdown",
   "id": "d87dd22d-7e46-4b03-8e80-1bf05d5f4dce",
   "metadata": {},
   "source": [
    "# Web Scraping with Python\n",
    "> GDSC NTNU<br>\n",
    "> 講者：Hugo"
   ]
  },
  {
   "cell_type": "code",
   "execution_count": 1,
   "id": "34649a24-db85-41e8-b6b0-1d1e35efb5fe",
   "metadata": {},
   "outputs": [],
   "source": [
    "import requests as rq\n",
    "from bs4 import BeautifulSoup as soup\n",
    "from selenium import webdriver\n",
    "import time"
   ]
  },
  {
   "cell_type": "markdown",
   "id": "545a793e-0274-44a7-a548-852b1a0393cf",
   "metadata": {},
   "source": [
    "## Requests\n",
    "### 發送 GET 請求"
   ]
  },
  {
   "cell_type": "code",
   "execution_count": 2,
   "id": "86b675b2-4e0d-4068-bd17-d31bdaa1f2b3",
   "metadata": {},
   "outputs": [
    {
     "name": "stdout",
     "output_type": "stream",
     "text": [
      "200\n"
     ]
    }
   ],
   "source": [
    "r = rq.get(\"https://www.google.com\")\n",
    "print(r.status_code) #content #status_code"
   ]
  },
  {
   "cell_type": "code",
   "execution_count": 5,
   "id": "11531f45-b5e7-4b19-81d2-44c1e88726b3",
   "metadata": {
    "scrolled": true
   },
   "outputs": [
    {
     "name": "stdout",
     "output_type": "stream",
     "text": [
      "<!doctype html><html itemscope=\"\" itemtype=\"http://schema.org/WebPage\" lang=\"zh-TW\"><head><meta content=\"text/html; charset=UTF-8\" http-equiv=\"Content-Type\"><meta content=\"/images/branding/googleg/1x/googleg_standard_color_128dp.png\" itemprop=\"image\"><title>Google</title><script nonce=\"_gUj0PjdMBhVFQ6qnihMGA\">(function(){var _g={kEI:'fRs_ZdLZGITa-QbpnqDgDA',kEXPI:'0,1365468,206,4804,2316,383,246,5,1129120,1804,1195961,380725,16115,28684,22431,1361,12318,17581,4998,17075,6885,31559,2872,2891,3926,213,7615,606,60690,2614,13491,230,20583,4,59617,4437,22604,6633,7596,1,42154,2,39761,5679,1021,31121,4568,6256,23421,1252,33064,2,2,1,24626,2006,8155,23350,874,19633,7,1922,9779,42459,20198,928,19209,14,82,20206,8377,18960,579,4824,782,1484,764,5630,5521,4665,356,1448,21011,26071,1632,13496,950,3691,8565,7768,146,8847,782,5221544,712,2,714,5994251,2806525,141,795,29513,25,2,41,59,10,3,38,23940876,579,2769589,1273939,16672,37285,2173,1445,1764,1220,3,562,996,5,542,3,1170,4,337,179,192,560,1391500,23759270,6869,4715,1215,8408,2879,1595,3530,5518,2554,589,11132,375,2900,3044,876,3,6579,3118,2138,1861,1879,3538,702,1837,4618,2808,778,1958,3786,533,291,2073,460,3788,2968,4850,181,1897,2746,3,390,2,665,125,506,967,1085,27,6,5,15,311,1340,776,502,2168,268,7,1,8,415,4,872,975,4,123,764,17,989,1400,1042,26,367,1176,1166,1507,1655,62,270,2253,3,46,814,230,86,259,18,4,422,896,3,617,113,462,1002,32,2,1116,313,806,1407,211,757,240,298,470,171,713,18,81,1503,567,393,179,1,330,115,24,492,153,50,1938,390,1044,732,39,129,536,1989,1042,178,2,847,176,301,7,265,49,4,315,328,8,13,697,198,886,28,148,2138,299,395,37,2,232,94,352,441,209,87,19,1747,2320,122',kBL:'lmiY',kOPI:89978449};(function(){var a;(null==(a=window.google)?0:a.stvsc)?google.kEI=_g.kEI:window.google=_g;}).call(this);})();(function(){google.sn='webhp';google.kHL='zh-TW';})();(function(){\n",
      "var h=this||self;function l(){return void 0!==window.google&&void 0!==window.google.kOPI&&0!==window.google.kOPI?window.google.kOPI:null};var m,n=[];function p(a){for(var b;a&&(!a.getAttribute||!(b=a.getAttribute(\"eid\")));)a=a.parentNode;return b||m}function q(a){for(var b=null;a&&(!a.getAttribute||!(b=a.getAttribute(\"leid\")));)a=a.parentNode;return b}function r(a){/^http:/i.test(a)&&\"https:\"===window.location.protocol&&(google.ml&&google.ml(Error(\"a\"),!1,{src:a,glmm:1}),a=\"\");return a}\n",
      "function t(a,b,c,d,k){var e=\"\";-1===b.search(\"&ei=\")&&(e=\"&ei=\"+p(d),-1===b.search(\"&lei=\")&&(d=q(d))&&(e+=\"&lei=\"+d));d=\"\";var g=-1===b.search(\"&cshid=\")&&\"slh\"!==a,f=[];f.push([\"zx\",Date.now().toString()]);h._cshid&&g&&f.push([\"cshid\",h._cshid]);c=c();null!=c&&f.push([\"opi\",c.toString()]);for(c=0;c<f.length;c++){if(0===c||0<c)d+=\"&\";d+=f[c][0]+\"=\"+f[c][1]}return\"/\"+(k||\"gen_204\")+\"?atyp=i&ct=\"+String(a)+\"&cad=\"+(b+e+d)};m=google.kEI;google.getEI=p;google.getLEI=q;google.ml=function(){return null};google.log=function(a,b,c,d,k,e){e=void 0===e?l:e;c||(c=t(a,b,e,d,k));if(c=r(c)){a=new Image;var g=n.length;n[g]=a;a.onerror=a.onload=a.onabort=function(){delete n[g]};a.src=c}};google.logUrl=function(a,b){b=void 0===b?l:b;return t(\"\",a,b)};}).call(this);(function(){google.y={};google.sy=[];google.x=function(a,b){if(a)var c=a.id;else{do c=Math.random();while(google.y[c])}google.y[c]=[a,b];return!1};google.sx=function(a){google.sy.push(a)};google.lm=[];google.plm=function(a){google.lm.push.apply(google.lm,a)};google.lq=[];google.load=function(a,b,c){google.lq.push([[a],b,c])};google.loadAll=function(a,b){google.lq.push([a,b])};google.bx=!1;google.lx=function(){};var d=[];google.fce=function(a,b,c,e){d.push([a,b,c,e])};google.qce=d;}).call(this);google.f={};(function(){\n",
      "document.documentElement.addEventListener(\"submit\",function(b){var a;if(a=b.target){var c=a.getAttribute(\"data-submitfalse\");a=\"1\"===c||\"q\"===c&&!a.elements.q.value?!0:!1}else a=!1;a&&(b.preventDefault(),b.stopPropagation())},!0);document.documentElement.addEventListener(\"click\",function(b){var a;a:{for(a=b.target;a&&a!==document.documentElement;a=a.parentElement)if(\"A\"===a.tagName){a=\"1\"===a.getAttribute(\"data-nohref\");break a}a=!1}a&&b.preventDefault()},!0);}).call(this);</script><style>#gbar,#guser{font-size:13px;padding-top:1px !important;}#gbar{height:22px}#guser{padding-bottom:7px !important;text-align:right}.gbh,.gbd{border-top:1px solid #c9d7f1;font-size:1px}.gbh{height:0;position:absolute;top:24px;width:100%}@media all{.gb1{height:22px;margin-right:.5em;vertical-align:top}#gbar{float:left}}a.gb1,a.gb4{text-decoration:underline !important}a.gb1,a.gb4{color:#00c !important}.gbi .gb4{color:#dd8e27 !important}.gbf .gb4{color:#900 !important}\n",
      "</style><style>body,td,a,p,.h{font-family:arial,sans-serif}body{margin:0;overflow-y:scroll}#gog{padding:3px 8px 0}td{line-height:.8em}.gac_m td{line-height:17px}form{margin-bottom:20px}.h{color:#1967d2}em{color:#c5221f;font-style:normal;font-weight:normal}a em{text-decoration:underline}.lst{height:25px;width:496px}.gsfi,.lst{font:18px arial,sans-serif}.gsfs{font:17px arial,sans-serif}.ds{display:inline-box;display:inline-block;margin:3px 0 4px;margin-left:4px}input{font-family:inherit}body{background:#fff;color:#000}a{color:#681da8;text-decoration:none}a:hover,a:active{text-decoration:underline}.fl a{color:#1967d2}a:visited{color:#681da8}.sblc{padding-top:5px}.sblc a{display:block;margin:2px 0;margin-left:13px;font-size:11px}.lsbb{background:#f8f9fa;border:solid 1px;border-color:#dadce0 #70757a #70757a #dadce0;height:30px}.lsbb{display:block}#WqQANb a{display:inline-block;margin:0 12px}.lsb{background:url(/images/nav_logo229.png) 0 -261px repeat-x;color:#000;border:none;cursor:pointer;height:30px;margin:0;outline:0;font:15px arial,sans-serif;vertical-align:top}.lsb:active{background:#dadce0}.lst:focus{outline:none}</style><script nonce=\"_gUj0PjdMBhVFQ6qnihMGA\">(function(){window.google.erd={jsr:1,bv:1892,de:true};\n",
      "var h=this||self;var k,l=null!=(k=h.mei)?k:1,n,p=null!=(n=h.sdo)?n:!0,q=0,r,t=google.erd,v=t.jsr;google.ml=function(a,b,d,m,e){e=void 0===e?2:e;b&&(r=a&&a.message);void 0===d&&(d={});d.cad=\"ple_\"+google.ple+\".aple_\"+google.aple;if(google.dl)return google.dl(a,e,d),null;if(0>v){window.console&&console.error(a,d);if(-2===v)throw a;b=!1}else b=!a||!a.message||\"Error loading script\"===a.message||q>=l&&!m?!1:!0;if(!b)return null;q++;d=d||{};b=encodeURIComponent;var c=\"/gen_204?atyp=i&ei=\"+b(google.kEI);google.kEXPI&&(c+=\"&jexpid=\"+b(google.kEXPI));c+=\"&srcpg=\"+b(google.sn)+\"&jsr=\"+b(t.jsr)+\"&bver=\"+\n",
      "b(t.bv);var f=a.lineNumber;void 0!==f&&(c+=\"&line=\"+f);var g=a.fileName;g&&(0<g.indexOf(\"-extension:/\")&&(e=3),c+=\"&script=\"+b(g),f&&g===window.location.href&&(f=document.documentElement.outerHTML.split(\"\\n\")[f],c+=\"&cad=\"+b(f?f.substring(0,300):\"No script found.\")));google.ple&&1===google.ple&&(e=2);c+=\"&jsel=\"+e;for(var u in d)c+=\"&\",c+=b(u),c+=\"=\",c+=b(d[u]);c=c+\"&emsg=\"+b(a.name+\": \"+a.message);c=c+\"&jsst=\"+b(a.stack||\"N/A\");12288<=c.length&&(c=c.substr(0,12288));a=c;m||google.log(0,\"\",a);return a};window.onerror=function(a,b,d,m,e){r!==a&&(a=e instanceof Error?e:Error(a),void 0===d||\"lineNumber\"in a||(a.lineNumber=d),void 0===b||\"fileName\"in a||(a.fileName=b),google.ml(a,!1,void 0,!1,\"SyntaxError\"===a.name||\"SyntaxError\"===a.message.substring(0,11)||-1!==a.message.indexOf(\"Script error\")?3:0));r=null;p&&q>=l&&(window.onerror=null)};})();</script></head><body bgcolor=\"#fff\"><script nonce=\"_gUj0PjdMBhVFQ6qnihMGA\">(function(){var src='/images/nav_logo229.png';var iesg=false;document.body.onload = function(){window.n && window.n();if (document.images){new Image().src=src;}\n",
      "if (!iesg){document.f&&document.f.q.focus();document.gbqf&&document.gbqf.q.focus();}\n",
      "}\n",
      "})();</script><div id=\"mngb\"><div id=gbar><nobr><b class=gb1>&#25628;&#23563;</b> <a class=gb1 href=\"https://www.google.com/imghp?hl=zh-TW&tab=wi\">&#22294;&#29255;</a> <a class=gb1 href=\"https://maps.google.com.tw/maps?hl=zh-TW&tab=wl\">&#22320;&#22294;</a> <a class=gb1 href=\"https://play.google.com/?hl=zh-TW&tab=w8\">Play</a> <a class=gb1 href=\"https://www.youtube.com/?tab=w1\">YouTube</a> <a class=gb1 href=\"https://news.google.com/?tab=wn\">&#26032;&#32862;</a> <a class=gb1 href=\"https://mail.google.com/mail/?tab=wm\">Gmail</a> <a class=gb1 href=\"https://drive.google.com/?tab=wo\">&#38642;&#31471;&#30828;&#30879;</a> <a class=gb1 style=\"text-decoration:none\" href=\"https://www.google.com.tw/intl/zh-TW/about/products?tab=wh\"><u>&#26356;&#22810;</u> &raquo;</a></nobr></div><div id=guser width=100%><nobr><span id=gbn class=gbi></span><span id=gbf class=gbf></span><span id=gbe></span><a href=\"http://www.google.com.tw/history/optout?hl=zh-TW\" class=gb4>&#32178;&#38913;&#35352;&#37636;</a> | <a  href=\"/preferences?hl=zh-TW\" class=gb4>&#35373;&#23450;</a> | <a target=_top id=gb_70 href=\"https://accounts.google.com/ServiceLogin?hl=zh-TW&passive=true&continue=https://www.google.com/&ec=GAZAAQ\" class=gb4>&#30331;&#20837;</a></nobr></div><div class=gbh style=left:0></div><div class=gbh style=right:0></div></div><center><br clear=\"all\" id=\"lgpd\"><div id=\"lga\"><img alt=\"Google\" height=\"92\" src=\"/images/branding/googlelogo/1x/googlelogo_white_background_color_272x92dp.png\" style=\"padding:28px 0 14px\" width=\"272\" id=\"hplogo\"><br><br></div><form action=\"/search\" name=\"f\"><table cellpadding=\"0\" cellspacing=\"0\"><tr valign=\"top\"><td width=\"25%\">&nbsp;</td><td align=\"center\" nowrap=\"\"><input name=\"ie\" value=\"ISO-8859-1\" type=\"hidden\"><input value=\"zh-TW\" name=\"hl\" type=\"hidden\"><input name=\"source\" type=\"hidden\" value=\"hp\"><input name=\"biw\" type=\"hidden\"><input name=\"bih\" type=\"hidden\"><div class=\"ds\" style=\"height:32px;margin:4px 0\"><input class=\"lst\" style=\"margin:0;padding:5px 8px 0 6px;vertical-align:top;color:#000\" autocomplete=\"off\" value=\"\" title=\"Google &#25628;&#23563;\" maxlength=\"2048\" name=\"q\" size=\"57\"></div><br style=\"line-height:0\"><span class=\"ds\"><span class=\"lsbb\"><input class=\"lsb\" value=\"Google &#25628;&#23563;\" name=\"btnG\" type=\"submit\"></span></span><span class=\"ds\"><span class=\"lsbb\"><input class=\"lsb\" id=\"tsuid_1\" value=\"&#22909;&#25163;&#27683;\" name=\"btnI\" type=\"submit\"><script nonce=\"_gUj0PjdMBhVFQ6qnihMGA\">(function(){var id='tsuid_1';document.getElementById(id).onclick = function(){if (this.form.q.value){this.checked = 1;if (this.form.iflsig)this.form.iflsig.disabled = false;}\n",
      "else top.location='/doodles/';};})();</script><input value=\"AO6bgOgAAAAAZT8pjd68wHvqvadnVvvNQz5mZ6wD86P1\" name=\"iflsig\" type=\"hidden\"></span></span></td><td class=\"fl sblc\" align=\"left\" nowrap=\"\" width=\"25%\"><a href=\"/advanced_search?hl=zh-TW&amp;authuser=0\">&#36914;&#38542;&#25628;&#23563;</a></td></tr></table><input id=\"gbv\" name=\"gbv\" type=\"hidden\" value=\"1\"><script nonce=\"_gUj0PjdMBhVFQ6qnihMGA\">(function(){var a,b=\"1\";if(document&&document.getElementById)if(\"undefined\"!=typeof XMLHttpRequest)b=\"2\";else if(\"undefined\"!=typeof ActiveXObject){var c,d,e=[\"MSXML2.XMLHTTP.6.0\",\"MSXML2.XMLHTTP.3.0\",\"MSXML2.XMLHTTP\",\"Microsoft.XMLHTTP\"];for(c=0;d=e[c++];)try{new ActiveXObject(d),b=\"2\"}catch(h){}}a=b;if(\"2\"==a&&-1==location.search.indexOf(\"&gbv=2\")){var f=google.gbvu,g=document.getElementById(\"gbv\");g&&(g.value=a);f&&window.setTimeout(function(){location.href=f},0)};}).call(this);</script></form><div id=\"gac_scont\"></div><div style=\"font-size:83%;min-height:3.5em\"><br></div><span id=\"footer\"><div style=\"font-size:10pt\"><div style=\"margin:19px auto;text-align:center\" id=\"WqQANb\"><a href=\"/intl/zh-TW/ads/\">&#24291;&#21578;</a><a href=\"http://www.google.com.tw/intl/zh-TW/services/\">&#21830;&#26989;&#35299;&#27770;&#26041;&#26696;</a><a href=\"/intl/zh-TW/about.html\">&#38364;&#26044; Google</a><a href=\"https://www.google.com/setprefdomain?prefdom=TW&amp;prev=https://www.google.com.tw/&amp;sig=K_BbSmHBmdeGvRvx_9IC_hVADmJcw%3D\">Google.com.tw</a></div></div><p style=\"font-size:8pt;color:#70757a\">&copy; 2023 - <a href=\"/intl/zh-TW/policies/privacy/\">&#38577;&#31169;&#27402;</a> - <a href=\"/intl/zh-TW/policies/terms/\">&#26381;&#21209;&#26781;&#27454;</a></p></span></center><script nonce=\"_gUj0PjdMBhVFQ6qnihMGA\">(function(){window.google.cdo={height:757,width:1440};(function(){var a=window.innerWidth,b=window.innerHeight;if(!a||!b){var c=window.document,d=\"CSS1Compat\"==c.compatMode?c.documentElement:c.body;a=d.clientWidth;b=d.clientHeight}\n",
      "if(a&&b&&(a!=google.cdo.width||b!=google.cdo.height)){var e=google,f=e.log,g=\"/client_204?&atyp=i&biw=\"+a+\"&bih=\"+b+\"&ei=\"+google.kEI,h=\"\",k=[],l=void 0!==window.google&&void 0!==window.google.kOPI&&0!==window.google.kOPI?window.google.kOPI:null;null!=l&&k.push([\"opi\",l.toString()]);for(var m=0;m<k.length;m++){if(0===m||0<m)h+=\"&\";h+=k[m][0]+\"=\"+k[m][1]}f.call(e,\"\",\"\",g+h)};}).call(this);})();</script> <script nonce=\"_gUj0PjdMBhVFQ6qnihMGA\">(function(){google.xjs={ck:'xjs.hp.RjVk13E_tLI.L.X.O',cs:'ACT90oFxPtQS7aW1MpP3dTEQiT8syLI65g',cssopt:false,csss:'ACT90oHqWDKJY4EbVJNicGuW2iZnvF44aA',excm:[],sepam:false,sepcss:false};})();</script>     <script nonce=\"_gUj0PjdMBhVFQ6qnihMGA\">(function(){var u='/xjs/_/js/k\\x3dxjs.hp.en.g4vfRkpdHDU.O/am\\x3dAAAAAAAAAAAAAAAAAAAAAAgAAAAAAAoACBAAAAAAAAAAAAEA6AgAgAUAuA/d\\x3d1/ed\\x3d1/rs\\x3dACT90oF-rfcopVmBzCOOAVzwDv07ez84mg/m\\x3dsb_he,d,cEt90b,SNUn3,qddgKe,sTsDMc,dtl0hd,eHDfl';var amd=0;\n",
      "var e=this||self,f=function(a){return a};var g;var h=function(a){this.g=a};h.prototype.toString=function(){return this.g+\"\"};var k={};var l=function(){var a=document;var b=\"SCRIPT\";\"application/xhtml+xml\"===a.contentType&&(b=b.toLowerCase());return a.createElement(b)};\n",
      "function m(a,b){a.src=b instanceof h&&b.constructor===h?b.g:\"type_error:TrustedResourceUrl\";var c,d;(c=(b=null==(d=(c=(a.ownerDocument&&a.ownerDocument.defaultView||window).document).querySelector)?void 0:d.call(c,\"script[nonce]\"))?b.nonce||b.getAttribute(\"nonce\")||\"\":\"\")&&a.setAttribute(\"nonce\",c)};function n(a){a=null===a?\"null\":void 0===a?\"undefined\":a;if(void 0===g){var b=null;var c=e.trustedTypes;if(c&&c.createPolicy){try{b=c.createPolicy(\"goog#html\",{createHTML:f,createScript:f,createScriptURL:f})}catch(d){e.console&&e.console.error(d.message)}g=b}else g=b}a=(b=g)?b.createScriptURL(a):a;return new h(a,k)};void 0===google.ps&&(google.ps=[]);function p(){var a=u,b=function(){};google.lx=google.stvsc?b:function(){q(a);google.lx=b};google.bx||google.lx()}function r(a,b){b&&m(a,n(b));var c=a.onload;a.onload=function(d){c&&c(d);google.ps=google.ps.filter(function(t){return a!==t})};google.ps.push(a);document.body.appendChild(a)}google.as=r;function q(a){google.timers&&google.timers.load&&google.tick&&google.tick(\"load\",\"xjsls\");var b=l();b.onerror=function(){google.ple=1};b.onload=function(){google.ple=0};google.xjsus=void 0;r(b,a);google.aple=-1;google.psa=!0};google.xjsu=u;e._F_jsUrl=u;setTimeout(function(){0<amd?google.caft(function(){return p()},amd):p()},0);})();window._ = window._ || {};window._DumpException = _._DumpException = function(e){throw e;};window._s = window._s || {};_s._DumpException = _._DumpException;window._qs = window._qs || {};_qs._DumpException = _._DumpException;(function(){var t=[1,0,0,0,2048,671088896,16809984,0,2048,597688324,5767168,11776];window._F_toggles = window._xjs_toggles = t;})();function _F_installCss(c){}\n",
      "(function(){google.jl={blt:'none',chnk:0,dw:false,dwu:true,emtn:0,end:0,ico:false,ikb:0,ine:false,injs:'none',injt:0,injth:0,injv2:false,lls:'default',pdt:0,rep:0,snet:true,strt:0,ubm:false,uwp:true};})();(function(){var pmc='{\\x22d\\x22:{},\\x22sb_he\\x22:{\\x22agen\\x22:false,\\x22cgen\\x22:false,\\x22client\\x22:\\x22heirloom-hp\\x22,\\x22dh\\x22:true,\\x22ds\\x22:\\x22\\x22,\\x22fl\\x22:true,\\x22host\\x22:\\x22google.com\\x22,\\x22jsonp\\x22:true,\\x22msgs\\x22:{\\x22cibl\\x22:\\x22\\\\u6e05\\\\u9664\\\\u641c\\\\u5c0b\\x22,\\x22dym\\x22:\\x22\\\\u4f60\\\\u662f\\\\u4e0d\\\\u662f\\\\u8981\\\\u67e5\\\\uff1a\\x22,\\x22lcky\\x22:\\x22\\\\u597d\\\\u624b\\\\u6c23\\x22,\\x22lml\\x22:\\x22\\\\u77ad\\\\u89e3\\\\u8a73\\\\u60c5\\x22,\\x22psrc\\x22:\\x22\\\\u5df2\\\\u5f9e\\\\u60a8\\\\u7684\\\\u300c\\\\u003Ca href\\x3d\\\\\\x22/history\\\\\\x22\\\\u003E\\\\u7db2\\\\u9801\\\\u8a18\\\\u9304\\\\u003C/a\\\\u003E\\\\u300d\\\\u4e2d\\\\u79fb\\\\u9664\\\\u9019\\\\u7b46\\\\u641c\\\\u5c0b\\\\u8a18\\\\u9304\\x22,\\x22psrl\\x22:\\x22\\\\u79fb\\\\u9664\\x22,\\x22sbit\\x22:\\x22\\\\u4ee5\\\\u5716\\\\u641c\\\\u5c0b\\x22,\\x22srch\\x22:\\x22Google \\\\u641c\\\\u5c0b\\x22},\\x22ovr\\x22:{},\\x22pq\\x22:\\x22\\x22,\\x22rfs\\x22:[],\\x22sbas\\x22:\\x220 3px 8px 0 rgba(0,0,0,0.2),0 0 0 1px rgba(0,0,0,0.08)\\x22,\\x22stok\\x22:\\x22yG4vq1MCAlgj8nLEKrzhkFalraQ\\x22}}';google.pmc=JSON.parse(pmc);})();(function(){var b=function(a){var c=0;return function(){return c<a.length?{done:!1,value:a[c++]}:{done:!0}}};\n",
      "var e=this||self;var g,h;a:{for(var k=[\"CLOSURE_FLAGS\"],l=e,n=0;n<k.length;n++)if(l=l[k[n]],null==l){h=null;break a}h=l}var p=h&&h[610401301];g=null!=p?p:!1;var q,r=e.navigator;q=r?r.userAgentData||null:null;function t(a){return g?q?q.brands.some(function(c){return(c=c.brand)&&-1!=c.indexOf(a)}):!1:!1}function u(a){var c;a:{if(c=e.navigator)if(c=c.userAgent)break a;c=\"\"}return-1!=c.indexOf(a)};function v(){return g?!!q&&0<q.brands.length:!1}function w(){return u(\"Safari\")&&!(x()||(v()?0:u(\"Coast\"))||(v()?0:u(\"Opera\"))||(v()?0:u(\"Edge\"))||(v()?t(\"Microsoft Edge\"):u(\"Edg/\"))||(v()?t(\"Opera\"):u(\"OPR\"))||u(\"Firefox\")||u(\"FxiOS\")||u(\"Silk\")||u(\"Android\"))}function x(){return v()?t(\"Chromium\"):(u(\"Chrome\")||u(\"CriOS\"))&&!(v()?0:u(\"Edge\"))||u(\"Silk\")}function y(){return u(\"Android\")&&!(x()||u(\"Firefox\")||u(\"FxiOS\")||(v()?0:u(\"Opera\"))||u(\"Silk\"))};var z=v()?!1:u(\"Trident\")||u(\"MSIE\");y();x();w();Object.freeze({});var A=!z&&!w(),D=function(a){if(/-[a-z]/.test(\"ved\"))return null;if(A&&a.dataset){if(y()&&!(\"ved\"in a.dataset))return null;a=a.dataset.ved;return void 0===a?null:a}return a.getAttribute(\"data-\"+\"ved\".replace(/([A-Z])/g,\"-$1\").toLowerCase())};var E=[],F=null;function G(a){a=a.target;var c=performance.now(),f=[],H=f.concat,d=E;if(!(d instanceof Array)){var m=\"undefined\"!=typeof Symbol&&Symbol.iterator&&d[Symbol.iterator];if(m)d=m.call(d);else if(\"number\"==typeof d.length)d={next:b(d)};else throw Error(\"a`\"+String(d));for(var B=[];!(m=d.next()).done;)B.push(m.value);d=B}E=H.call(f,d,[c]);if(a&&a instanceof HTMLElement)if(a===F){if(c=4<=E.length)c=5>(E[E.length-1]-E[E.length-4])/1E3;if(c){c=google.getEI(a);a.hasAttribute(\"data-ved\")?f=a?D(a)||\"\":\"\":f=(f=\n",
      "a.closest(\"[data-ved]\"))?D(f)||\"\":\"\";f=f||\"\";if(a.hasAttribute(\"jsname\"))a=a.getAttribute(\"jsname\");else{var C;a=null==(C=a.closest(\"[jsname]\"))?void 0:C.getAttribute(\"jsname\")}google.log(\"rcm\",\"&ei=\"+c+\"&ved=\"+f+\"&jsname=\"+(a||\"\"))}}else F=a,E=[c]}window.document.addEventListener(\"DOMContentLoaded\",function(){document.body.addEventListener(\"click\",G)});}).call(this);</script></body></html>\n"
     ]
    }
   ],
   "source": [
    "r = rq.get(\"https://www.google.com\")\n",
    "if r.status_code == rq.codes.ok:\n",
    "    print(r.text)"
   ]
  },
  {
   "cell_type": "code",
   "execution_count": 6,
   "id": "a2b467f6-c6c3-4bf7-af6b-629867cda1c2",
   "metadata": {},
   "outputs": [
    {
     "name": "stdout",
     "output_type": "stream",
     "text": [
      "{\n",
      "  \"args\": {\n",
      "    \"key1\": \"value1\", \n",
      "    \"key2\": \"value2\"\n",
      "  }, \n",
      "  \"headers\": {\n",
      "    \"Accept\": \"*/*\", \n",
      "    \"Accept-Encoding\": \"gzip, deflate\", \n",
      "    \"Host\": \"httpbin.org\", \n",
      "    \"User-Agent\": \"python-requests/2.28.1\", \n",
      "    \"X-Amzn-Trace-Id\": \"Root=1-653f1bd2-2aa7dadc40c708f727675452\"\n",
      "  }, \n",
      "  \"origin\": \"140.122.136.191\", \n",
      "  \"url\": \"http://httpbin.org/get?key1=value1&key2=value2\"\n",
      "}\n",
      "\n"
     ]
    }
   ],
   "source": [
    "payload = {'key1': 'value1', 'key2': 'value2'}\n",
    "html = rq.get(\"http://httpbin.org/get\", params=payload)\n",
    "print(html.text)"
   ]
  },
  {
   "cell_type": "markdown",
   "id": "d9bb142b-e065-406d-8a71-8a509f6a2aba",
   "metadata": {},
   "source": [
    "### 發送 POST 請求"
   ]
  },
  {
   "cell_type": "code",
   "execution_count": 7,
   "id": "a3b266a8-b4b9-4858-84eb-7fa7dba623fc",
   "metadata": {},
   "outputs": [
    {
     "name": "stdout",
     "output_type": "stream",
     "text": [
      "{\n",
      "  \"args\": {}, \n",
      "  \"data\": \"\", \n",
      "  \"files\": {}, \n",
      "  \"form\": {\n",
      "    \"key1\": \"value1\", \n",
      "    \"key2\": \"value2\"\n",
      "  }, \n",
      "  \"headers\": {\n",
      "    \"Accept\": \"*/*\", \n",
      "    \"Accept-Encoding\": \"gzip, deflate\", \n",
      "    \"Content-Length\": \"23\", \n",
      "    \"Content-Type\": \"application/x-www-form-urlencoded\", \n",
      "    \"Host\": \"httpbin.org\", \n",
      "    \"User-Agent\": \"python-requests/2.28.1\", \n",
      "    \"X-Amzn-Trace-Id\": \"Root=1-653f1bdb-51d46f9108f3ce8f32b2a685\"\n",
      "  }, \n",
      "  \"json\": null, \n",
      "  \"origin\": \"140.122.136.191\", \n",
      "  \"url\": \"http://httpbin.org/post\"\n",
      "}\n",
      "\n"
     ]
    }
   ],
   "source": [
    "payload = {'key1': 'value1', 'key2': 'value2'}\n",
    "r = rq.post(\"http://httpbin.org/post\", data=payload)\n",
    "print(r.text)"
   ]
  },
  {
   "cell_type": "markdown",
   "id": "a5310b88-509f-4484-893f-04e5ac6c55cd",
   "metadata": {},
   "source": [
    "### Lab01: 刷點閱次數 OuO"
   ]
  },
  {
   "cell_type": "code",
   "execution_count": 8,
   "id": "c025e317-4b7d-49a7-b62e-f8ff9efc98f4",
   "metadata": {},
   "outputs": [
    {
     "name": "stdin",
     "output_type": "stream",
     "text": [
      "我要新增點閱次數？次 10\n"
     ]
    },
    {
     "name": "stdout",
     "output_type": "stream",
     "text": [
      "Done!\n"
     ]
    }
   ],
   "source": [
    "url = 'https://www.aa.ntnu.edu.tw/zh_tw/News/%E6%9C%AC%E6%A0%A1%E5%AD%B8%E7%94%9F%E5%8A%A0%E9%81%B8%E8%87%BA%E5%A4%A7%E7%B3%BB%E7%B5%B1%E8%AA%B2%E7%A8%8B%E5%BE%8C-%E6%95%99%E5%AD%B8%E5%B9%B3%E5%8F%B0%E5%B8%B3%E8%99%9F-NTU-COOL-NTUST-Moodle-%E4%BD%BF%E7%94%A8%E8%AA%AA%E6%98%8E-90969108'\n",
    "\n",
    "times = int(input('我要新增點閱次數？次'))\n",
    "\n",
    "for i in range(times):\n",
    "    rq.get(url)\n",
    "    #time.sleep(2)\n",
    "print('Done!')"
   ]
  },
  {
   "cell_type": "code",
   "execution_count": null,
   "id": "5e7de35a-5aed-4e74-8b24-7b6b4243d9b2",
   "metadata": {},
   "outputs": [],
   "source": [
    "url = \"https://www.w3schools.com/images/w3lynx_200.png\"\n",
    "path = \"./Ch05/fchart05.png\"\n",
    "response = rq.get(url, stream=True)\n",
    "if response.status_code == 200:\n",
    "    with open(path, 'wb') as fp:\n",
    "        for chunk in response:\n",
    "            fp.write(chunk)\n",
    "    print(\"圖檔已經下載\")        \n",
    "else:\n",
    "    print(\"錯誤! HTTP請求失敗...\")"
   ]
  },
  {
   "cell_type": "markdown",
   "id": "c496a3a3-c5e9-40b5-ab2c-a1a73c9bdcdb",
   "metadata": {},
   "source": [
    "## Beautiful Soup"
   ]
  },
  {
   "cell_type": "markdown",
   "id": "9058a919-ccc7-43b1-ab92-63689f0e78af",
   "metadata": {},
   "source": [
    "常用屬性"
   ]
  },
  {
   "cell_type": "code",
   "execution_count": 11,
   "id": "153e73d9-0a2f-4026-acb2-9b29230edd12",
   "metadata": {},
   "outputs": [
    {
     "name": "stdout",
     "output_type": "stream",
     "text": [
      "<title data-react-helmet=\"true\">Another weapon to fight climate change? Put carbon back where we found it</title>\n",
      "Another weapon to fight climate change? Put carbon back where we found it\n",
      "<h1 class=\"Article__Headline__Title\">Another weapon to fight climate change? Put carbon back where we found it</h1>\n",
      "<p class=\"Article__Headline__Desc\">Getting to zero carbon emissions won’t save the world. We’ll have to also remove carbon from the air—a massive undertaking unlike anything we’ve ever done.</p>\n"
     ]
    }
   ],
   "source": [
    "url = 'https://www.nationalgeographic.com/premium/article/remove-carbon-emissions'\n",
    "html = rq.get(url)\n",
    "html.encoding = 'UTF-8'\n",
    "sp = soup(html.text, 'lxml')\n",
    "\n",
    "print(sp.title)\n",
    "print(sp.title.text)\n",
    "print(sp.h1)\n",
    "print(sp.p)"
   ]
  },
  {
   "cell_type": "markdown",
   "id": "b4602101-fd28-45a0-9e84-cae41e8d72fd",
   "metadata": {},
   "source": [
    "`find()` & `find_all()`"
   ]
  },
  {
   "cell_type": "code",
   "execution_count": 12,
   "id": "0b276251-9c0a-4801-bc08-74916a8cf35a",
   "metadata": {},
   "outputs": [
    {
     "name": "stdout",
     "output_type": "stream",
     "text": [
      "<p id=\"p1\"> Section 1 </p>\n",
      "[<p id=\"p1\"> Section 1 </p>, <p class=\"red\" id=\"p2\"> Section 2 </p>]\n",
      "<p class=\"red\" id=\"p2\"> Section 2 </p>\n",
      "<p class=\"red\" id=\"p2\"> Section 2 </p>\n"
     ]
    }
   ],
   "source": [
    "html = '''\n",
    "<html>\n",
    "    <head>\n",
    "        <meta charset=\"UTF-8\">\n",
    "        <title> Website title </title>\n",
    "    </head>\n",
    "    <body>\n",
    "        <p id=\"p1\"> Section 1 </p>\n",
    "        <p id=\"p2\" class='red'> Section 2 </p>\n",
    "    </body>\n",
    "</html>\n",
    "'''\n",
    "sp = soup(html, 'lxml')\n",
    "print(sp.find('p'))\n",
    "print(sp.find_all('p'))\n",
    "print(sp.find('p', {'id':'p2', 'class':'red'}))\n",
    "print(sp.find('p', id='p2', class_= 'red'))"
   ]
  },
  {
   "cell_type": "markdown",
   "id": "7a1845e6-1e47-413c-8a07-cb7aa1e8367e",
   "metadata": {},
   "source": [
    "`select()`"
   ]
  },
  {
   "cell_type": "code",
   "execution_count": 13,
   "id": "8651ed00-626f-43b1-9cc9-1b029ee57dd1",
   "metadata": {},
   "outputs": [
    {
     "name": "stdout",
     "output_type": "stream",
     "text": [
      "[<title> Website title </title>]\n",
      "[<p id=\"p1\"> Section 1 </p>, <p class=\"red\" id=\"p2\"> Section 2 </p>]\n",
      "[<p class=\"red\" id=\"p2\"> Section 2 </p>]\n",
      "[<p class=\"red\" id=\"p2\"> Section 2 </p>]\n"
     ]
    }
   ],
   "source": [
    "html = '''\n",
    "<html>\n",
    "    <head>\n",
    "        <title> Website title </title>\n",
    "    </head>\n",
    "    <body>\n",
    "        <p id=\"p1\"> Section 1 </p>\n",
    "        <p id=\"p2\" class='red'> Section 2 </p>\n",
    "    </body>\n",
    "</html>\n",
    "'''\n",
    "sp = soup(html, 'lxml')\n",
    "print(sp.select('title'))\n",
    "print(sp.select('p'))\n",
    "print(sp.select('#p2')) #快速取 id\n",
    "print(sp.select('.red')) #快速取 class"
   ]
  },
  {
   "cell_type": "code",
   "execution_count": 14,
   "id": "2fef587e-f29c-4caf-af81-30a0401b00f6",
   "metadata": {},
   "outputs": [
    {
     "name": "stdout",
     "output_type": "stream",
     "text": [
      "https://upload.wikimedia.org/wikipedia/zh/thumb/c/c3/National_Taiwan_Normal_University_logo.svg/300px-National_Taiwan_Normal_University_logo.svg.png\n",
      "https://www.ntnu.edu.tw/\n",
      "https://upload.wikimedia.org/wikipedia/zh/thumb/c/c3/National_Taiwan_Normal_University_logo.svg/300px-National_Taiwan_Normal_University_logo.svg.png\n",
      "https://www.ntnu.edu.tw/\n"
     ]
    }
   ],
   "source": [
    "html = '''\n",
    "<html>\n",
    "    <head>\n",
    "        <title> Website title </title>\n",
    "    </head>\n",
    "    <body>\n",
    "        <img src=\"https://upload.wikimedia.org/wikipedia/zh/thumb/c/c3/National_Taiwan_Normal_University_logo.svg/300px-National_Taiwan_Normal_University_logo.svg.png\">\n",
    "        <a href=\"https://www.ntnu.edu.tw/\"> NTNU(click me) </a>\n",
    "    </body>\n",
    "</html>\n",
    "'''\n",
    "sp = soup(html, 'lxml')\n",
    "print(sp.select('img')[0].get('src'))\n",
    "print(sp.select('a')[0].get('href'))\n",
    "print(sp.select('img')[0]['src'])\n",
    "print(sp.select('a')[0]['href'])"
   ]
  },
  {
   "cell_type": "code",
   "execution_count": 19,
   "id": "287f96db-f3bf-455c-ba61-34ef5bc27aef",
   "metadata": {},
   "outputs": [
    {
     "name": "stdout",
     "output_type": "stream",
     "text": [
      "<title> Website title </title>\n",
      "<h1> h1 title </h1>\n",
      "[<a class=\"red\" href=\"http://example.com/one\" id=\"link1\"> First </a>, <a class=\"red\" href=\"http://example.com/two\" id=\"link2\"> Second </a>, <a class=\"blue\" href=\"http://example.com/three\" id=\"link3\">\n",
      "<img src=\"http://example.com/three.jpg\"/>Third\n",
      "    </a>]\n",
      "[<a class=\"red\" href=\"http://example.com/one\" id=\"link1\"> First </a>, <a class=\"red\" href=\"http://example.com/two\" id=\"link2\"> Second </a>]\n",
      " First \n",
      " First \n",
      "http://example.com/one\n",
      "http://example.com/one\n",
      "[<title> Website title </title>, <h1> h1 title </h1>]\n",
      "http://example.com/three.jpg\n",
      "[<a class=\"red\" href=\"http://example.com/one\" id=\"link1\"> First </a>, <a class=\"red\" href=\"http://example.com/two\" id=\"link2\"> Second </a>]\n"
     ]
    }
   ],
   "source": [
    "html = \"\"\"\n",
    "<html>\n",
    "    <head>\n",
    "        <title> Website title </title>\n",
    "    </head>\n",
    "    <h1> h1 title </h1>\n",
    "    <div class=\"content\">\n",
    "    <div class=\"item1\">\n",
    "        <a href=\"http://example.com/one\" class=\"red\" id=\"link1\"> First </a>\n",
    "        <a href=\"http://example.com/two\" class=\"red\" id=\"link2\"> Second </a>\n",
    "    </div>\n",
    "    <a href=\"http://example.com/three\" class=\"blue\" id=\"link3\">\n",
    "        <img src=\"http://example.com/three.jpg\">Third\n",
    "    </a>\n",
    "</div>\n",
    "\"\"\"\n",
    "\n",
    "sp = soup(html,'lxml') \n",
    "\n",
    "print(sp.title)\n",
    "\n",
    "print(sp.find('h1'))\n",
    "\n",
    "print(sp.find_all('a')) \n",
    "print(sp.find_all(\"a\", {\"class\":\"red\"}))\n",
    "\n",
    "data1=sp.find(\"a\", {\"href\":\"http://example.com/one\"})\n",
    "print(data1.text) # First\n",
    "\n",
    "data2 = sp.select(\"#link1\") \n",
    "print(data2[0].text)\n",
    "print(data2[0].get(\"href\"))\n",
    "print(data2[0][\"href\"])\n",
    "\n",
    "print(sp.find_all(['title','h1']))\n",
    "\n",
    "print(sp.select('div img')[0]['src'])\n",
    "\n",
    "print(sp.select('div.item1 > a'))"
   ]
  },
  {
   "cell_type": "markdown",
   "id": "8fedbece-a5e3-4ceb-9485-6be4ecd793e8",
   "metadata": {},
   "source": [
    "### Lab02: 獲取新聞文本"
   ]
  },
  {
   "cell_type": "code",
   "execution_count": 20,
   "id": "4c0e9d2e-8dd4-4621-a875-91037adca08e",
   "metadata": {},
   "outputs": [
    {
     "name": "stdout",
     "output_type": "stream",
     "text": [
      "# 標題\n",
      " 泰國大選／回顧泰國20年動盪政局\n",
      "\n",
      "## 引言\n",
      " 泰國5月14日舉行國會眾議院大選，選民用壓倒性票數讓民主派的年輕勢力「前進黨」勝選，反映出對政壇世代交替、終結軍方統治的渴望，也讓眾議院睽違近10年再度政黨輪替。但現任總理帕拉育曾以軍事政變緊抓權力8年，新世代崛起可望改革成功？泰國現況是否類似台灣「黨外時期」？關心亞洲民主之路，讓我們一起來了解泰國政治。\n",
      "\n",
      "## 副標題\n",
      "21世紀泰國選舉新制 總理更換頻繁\n",
      "2014軍事政變 帕拉育掌權至今\n",
      "2020泰國學運 年輕世代掀民主改革 \n",
      "2023帕拉育爭連任 戴克辛為重返政壇鋪路\n",
      "泰國本屆大選 眾議院選舉結果\n",
      "\n",
      "## 內文\n",
      "泰國5月14日舉行國會眾議院大選，選民用壓倒性票數讓民主派的年輕勢力「前進黨」勝選，反映出對政壇世代交替、終結軍方統治的渴望，也讓眾議院睽違近10年再度政黨輪替。但現任總理帕拉育曾以軍事政變緊抓權力8年，新世代崛起可望改革成功？泰國現況是否類似台灣「黨外時期」？關心亞洲民主之路，讓我們一起來了解泰國政治。\n",
      "泰國自1932年改為君主立憲制，由總理組成政府，雖為民主國家，但仍遭逢多次軍事政變，政權不斷更迭，且國會選制複雜多變。\n",
      "2001年大選首採「單一選區兩票制」，由富商戴克辛領導的泰愛泰黨擊敗民主黨勝選，亦奠定兩黨制雛形。2005年大選戴克辛順利連任，但隨後被指控貪汙等引發爭議。\n",
      "2006年戴克辛發動閃電大選，後遭軍事政變，軍方推派素拉育成為第24任總理。泰愛泰黨雖已被解散，但親戴克辛的人民力量黨仍在2007年大選獲得勝利，卻也使泰國往後的「紅黃對立」白熱化。\n",
      "人民力量黨領袖薩瑪成第25任泰國總理，但黃衫軍抗議後不到8個月就下台。戴克辛妹婿宋猜就職總理未滿75天，人民力量黨遭解散。民主黨艾比希上任第27任總理，不過2010年爆發紅衫軍示威，2011年大選戴克辛胞妹盈拉帶領為泰黨重返執政。\n",
      "2013年盈拉因推動赦免法，被認為是為戴克辛回歸政壇鋪路，引發大規模抗議，最終遭軍方逮捕。帕拉育任看守總理，2017年新憲法頒布後，正式被任命為總理。2019年泰國恢復大選，帕拉育連任總理，繼續軍事統治。\n",
      "由於親軍方政黨輔助，加上參與總理票選的參議院250席皆被掌控，帕拉育無意外勝出，席次超越為泰黨和未來前進黨。戴克辛指控計票數有誤，大選有瑕疵。\n",
      "未來前進黨對軍政府直言無諱，受年輕選民歡迎，成立1年便成為國會第3大黨。黨魁塔納通卻因貸款給自己的政黨，被檢舉違反選舉法，2020年2月未來前進黨被解散。\n",
      "泰國爆發數個月示威抗議，各高中及大學遍地開花，3月下旬因新冠肺炎爆發活動終止，7月運動重啟，不過最終以警方鎮壓告終。\n",
      "上萬人上街要求帕拉育政府下台，成為2014年軍事政變以來規模最大的示威活動。\n",
      "學運3大訴求為「解散軍政府主導的國會、停止打壓異議人士、重新修正2017年軍方制定的新憲法」。\n",
      "泰國法政大學學生碰觸長年敏感的王室議題，提出10項訴求改革王室君主制，包括削減皇室預算、撤銷刑法112條「冒犯君主罪」，其法最高可被判處15年刑期。\n",
      "\n",
      "泰國總理任期不得超過8年，反對勢力認為，帕拉育總理任期應始於2014年，讓他依自己推動的新憲法下台。帕拉育雖在2022年8月底暫時停職，但最終憲法法庭仍裁定其任期從2017年計算，可至2025年。\n",
      "2023年眾議院議員4年任期已滿，泰國3月解散國會、5月舉行大選。角逐總理人選中有3位最受矚目——「年輕激進派」前進黨皮塔、「老黨新血」為泰黨貝東丹、「軍方舊勢力」現任總理拉帕育。\n",
      "眾議院選舉初步結果已宣布，不過仍須選舉委員會查驗選票，2個月後確認正式結果。之後由500名眾議員和軍方指派的250名參議員聯合投票新任總理，須獲得過半席次376票支持，預計今年7、8月揭曉總理當選人。\n",
      "眾議院500席中，前進黨共拿下152席，為泰黨獲得141席。現任總理帕拉育加入團結建國黨欲爭取連任總理，不過該黨在眾議院僅獲36席，位居第5。\n",
      "前進黨獲勝關鍵之一是因年輕選民大量湧入投票，他們為什麼如此受Z世代歡迎？\n",
      "前進黨總理候選人皮塔最受18到26歲群眾支持，公視在國會大選前獨家專訪，皮塔指出泰國人民在過去10年中，找不到任何希望。\n"
     ]
    }
   ],
   "source": [
    "url = 'https://news.pts.org.tw/curation/120'\n",
    "\n",
    "html = rq.get(url)\n",
    "sp = soup(html.text, 'lxml')\n",
    "\n",
    "title = sp.find('h1', class_='text-center').text\n",
    "print('# 標題\\n', title)\n",
    "\n",
    "summary = sp.find('div', class_='topic-summery position-relative').find('p').text\n",
    "print('\\n## 引言\\n', summary)\n",
    "\n",
    "subtitle = sp.find_all('h2', class_='title-col')\n",
    "print('\\n## 副標題')\n",
    "for i in subtitle:\n",
    "    print(i.text)\n",
    "\n",
    "content = sp.find_all('p')\n",
    "print('\\n## 內文')\n",
    "for j in content:\n",
    "    print(j.text)"
   ]
  },
  {
   "cell_type": "markdown",
   "id": "340c2e04-bedc-4ffe-be2c-b3e1b55f9733",
   "metadata": {},
   "source": [
    "## Selenium"
   ]
  },
  {
   "cell_type": "markdown",
   "id": "c17e096c-6012-4084-8a37-feb44307ea6a",
   "metadata": {},
   "source": [
    "### Lab03: 爬取 MLB.com stats"
   ]
  },
  {
   "cell_type": "code",
   "execution_count": null,
   "id": "52949ffd-49df-4943-af89-729d179e6f64",
   "metadata": {},
   "outputs": [],
   "source": [
    "# mlb_stats_crawler.ipynb"
   ]
  },
  {
   "cell_type": "markdown",
   "id": "bbb60fa0-1512-4d05-8120-1058a4b7bdd7",
   "metadata": {},
   "source": [
    "## It's your turn🫵\n",
    "### 如何快速存取表格資料"
   ]
  },
  {
   "cell_type": "code",
   "execution_count": 21,
   "id": "a498177e-b72f-4161-bdf3-ce5ba388afc3",
   "metadata": {},
   "outputs": [
    {
     "name": "stderr",
     "output_type": "stream",
     "text": [
      "C:\\Users\\user\\AppData\\Local\\Temp\\ipykernel_21336\\3872100464.py:9: DeprecationWarning: executable_path has been deprecated, please pass in a Service object\n",
      "  driver = webdriver.Chrome('/programing/swiftx/chromedriver-win64/chromedriver.exe', options=chrome_options)\n"
     ]
    }
   ],
   "source": [
    "import pandas as pd\n",
    "from selenium.webdriver.common.by import By\n",
    "from selenium.webdriver.chrome.options import Options\n",
    "\n",
    "chrome_options = Options()\n",
    "chrome_options.add_argument('--headless')\n",
    "\n",
    "url = 'https://www.aa.ntnu.edu.tw/zh_tw/News?category%5B%5D=6331b9713817848ea26d27b5&category%5B%5D=6331b9713817848ea26d27b6&category%5B%5D=6331b9713817848ea26d27b7&category%5B%5D=6331b9713817848ea26d27b8&category%5B%5D=6331ed7b381784be12bdd622&tags%5B%5D=all'\n",
    "driver = webdriver.Chrome('/programing/swiftx/chromedriver-win64/chromedriver.exe', options=chrome_options)\n",
    "html = driver.get(url)\n",
    "sp = soup(driver.page_source, 'lxml')\n",
    "\n",
    "table = driver.find_element(By.XPATH, '//*[@id=\"DataTables_Table_0\"]').get_attribute('outerHTML')\n",
    "df = pd.read_html(str(table))\n",
    "df[0].to_csv(\"bulletin board.csv\", index=False)"
   ]
  },
  {
   "cell_type": "markdown",
   "id": "91d93bd2-ad1c-422d-8148-6ae243b0682a",
   "metadata": {},
   "source": [
    "### 爬取 NBA.com stats"
   ]
  },
  {
   "cell_type": "code",
   "execution_count": null,
   "id": "efece0e0-66f3-4deb-a8ee-7009b47fd1e0",
   "metadata": {},
   "outputs": [],
   "source": [
    "# your code"
   ]
  },
  {
   "cell_type": "code",
   "execution_count": null,
   "id": "5c36fe5f-e359-4486-b49c-5c213e2491c9",
   "metadata": {},
   "outputs": [],
   "source": []
  }
 ],
 "metadata": {
  "kernelspec": {
   "display_name": "Python 3 (ipykernel)",
   "language": "python",
   "name": "python3"
  },
  "language_info": {
   "codemirror_mode": {
    "name": "ipython",
    "version": 3
   },
   "file_extension": ".py",
   "mimetype": "text/x-python",
   "name": "python",
   "nbconvert_exporter": "python",
   "pygments_lexer": "ipython3",
   "version": "3.10.11"
  }
 },
 "nbformat": 4,
 "nbformat_minor": 5
}
