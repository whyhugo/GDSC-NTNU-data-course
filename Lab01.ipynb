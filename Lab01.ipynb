{
 "cells": [
  {
   "cell_type": "code",
   "execution_count": null,
   "id": "34649a24-db85-41e8-b6b0-1d1e35efb5fe",
   "metadata": {},
   "outputs": [],
   "source": [
    "import requests as rq\n",
    "import pandas as pd\n",
    "from bs4 import BeautifulSoup as soup\n",
    "import time"
   ]
  },
  {
   "cell_type": "code",
   "execution_count": null,
   "id": "86b675b2-4e0d-4068-bd17-d31bdaa1f2b3",
   "metadata": {},
   "outputs": [],
   "source": [
    "import requests \n",
    "\n",
    "r = requests.get(\"https://www.google.com\")\n",
    "print(r.status_code)"
   ]
  },
  {
   "cell_type": "code",
   "execution_count": null,
   "id": "11531f45-b5e7-4b19-81d2-44c1e88726b3",
   "metadata": {
    "scrolled": true
   },
   "outputs": [],
   "source": [
    "import requests\n",
    "r = requests.get(\"https://www.google.com\")\n",
    "if r.status_code == requests.codes.ok:\n",
    "    print(r.text) #content #status_code"
   ]
  },
  {
   "cell_type": "code",
   "execution_count": null,
   "id": "a2b467f6-c6c3-4bf7-af6b-629867cda1c2",
   "metadata": {},
   "outputs": [],
   "source": [
    "import requests\n",
    "\n",
    "payload = {'key1': 'value1', 'key2': 'value2'}\n",
    "html = requests.get(\"http://httpbin.org/get\", params=payload)\n",
    "print(html.text)"
   ]
  },
  {
   "cell_type": "code",
   "execution_count": null,
   "id": "a3b266a8-b4b9-4858-84eb-7fa7dba623fc",
   "metadata": {},
   "outputs": [],
   "source": [
    "import requests\n",
    "\n",
    "payload = {'key1': 'value1', 'key2': 'value2'}\n",
    "r = requests.post(\"http://httpbin.org/post\", data=payload)\n",
    "print(r.text)"
   ]
  },
  {
   "cell_type": "code",
   "execution_count": null,
   "id": "c025e317-4b7d-49a7-b62e-f8ff9efc98f4",
   "metadata": {},
   "outputs": [],
   "source": [
    "url = 'https://www.aa.ntnu.edu.tw/zh_tw/News/%E6%9C%AC%E6%A0%A1%E5%AD%B8%E7%94%9F%E5%8A%A0%E9%81%B8%E8%87%BA%E5%A4%A7%E7%B3%BB%E7%B5%B1%E8%AA%B2%E7%A8%8B%E5%BE%8C-%E6%95%99%E5%AD%B8%E5%B9%B3%E5%8F%B0%E5%B8%B3%E8%99%9F-NTU-COOL-NTUST-Moodle-%E4%BD%BF%E7%94%A8%E8%AA%AA%E6%98%8E-90969108'\n",
    "\n",
    "times = int(input('我要新增點閱次數？次'))\n",
    "\n",
    "for i in range(times):\n",
    "    rq.get(url)\n",
    "    time.sleep(2)\n",
    "print('Done!')"
   ]
  },
  {
   "cell_type": "code",
   "execution_count": null,
   "id": "153e73d9-0a2f-4026-acb2-9b29230edd12",
   "metadata": {},
   "outputs": [],
   "source": [
    "import requests\n",
    "from bs4 import BeautifulSoup\n",
    "url = 'http://ehappy.tw/bsdemo1.htm'\n",
    "html = requests.get(url)\n",
    "html.encoding = 'UTF-8'\n",
    "sp = BeautifulSoup(html.text, 'lxml')\n",
    "\n",
    "print(sp.title)\n",
    "print(sp.title.text)\n",
    "print(sp.h1)\n",
    "print(sp.p)"
   ]
  },
  {
   "cell_type": "code",
   "execution_count": null,
   "id": "0b276251-9c0a-4801-bc08-74916a8cf35a",
   "metadata": {
    "scrolled": true
   },
   "outputs": [],
   "source": [
    "from bs4 import BeautifulSoup\n",
    "html = '''\n",
    "<html>\n",
    "  <head><meta charset=\"UTF-8\"><title>我是網頁標題</title></head>\n",
    "  <body>\n",
    "      <p id=\"p1\">我是段落一</p>\n",
    "      <p id=\"p2\" class='red'>我是段落二</p>\n",
    "  </body>\n",
    "</html>\n",
    "'''\n",
    "sp = BeautifulSoup(html, 'lxml')\n",
    "print(sp.find('p'))\n",
    "print(sp.find_all('p'))\n",
    "print(sp.find('p', {'id':'p2', 'class':'red'}))\n",
    "print(sp.find('p', id='p2', class_= 'red'))"
   ]
  },
  {
   "cell_type": "code",
   "execution_count": null,
   "id": "8651ed00-626f-43b1-9cc9-1b029ee57dd1",
   "metadata": {},
   "outputs": [],
   "source": [
    "from bs4 import BeautifulSoup\n",
    "html = '''\n",
    "<html>\n",
    "  <head><meta charset=\"UTF-8\"><title>我是網頁標題</title></head>\n",
    "  <body>\n",
    "      <p id=\"p1\">我是段落一</p>\n",
    "      <p id=\"p2\" class='red'>我是段落二</p>\n",
    "  </body>\n",
    "</html>\n",
    "'''\n",
    "sp = BeautifulSoup(html, 'lxml')\n",
    "print(sp.select('title'))\n",
    "print(sp.select('p'))\n",
    "print(sp.select('#p1'))\n",
    "print(sp.select('.red'))"
   ]
  },
  {
   "cell_type": "code",
   "execution_count": null,
   "id": "2fef587e-f29c-4caf-af81-30a0401b00f6",
   "metadata": {},
   "outputs": [],
   "source": [
    "from bs4 import BeautifulSoup\n",
    "html = '''\n",
    "<html>\n",
    "  <head><meta charset=\"UTF-8\"><title>我是網頁標題</title></head>\n",
    "  <body>\n",
    "      <img src=\"http://www.ehappy.tw/python.png\">\n",
    "      <a href=\"http://www.e-happy.com.tw\">超連結</a>\n",
    "  </body>\n",
    "</html>\n",
    "'''\n",
    "sp = BeautifulSoup(html, 'lxml')\n",
    "print(sp.select('img')[0].get('src'))\n",
    "print(sp.select('a')[0].get('href'))\n",
    "print(sp.select('img')[0]['src'])\n",
    "print(sp.select('a')[0]['href'])"
   ]
  },
  {
   "cell_type": "code",
   "execution_count": null,
   "id": "287f96db-f3bf-455c-ba61-34ef5bc27aef",
   "metadata": {},
   "outputs": [],
   "source": [
    "html = \"\"\"\n",
    "<html><head><title>網頁標題</title></head>\n",
    "<h1>文件標題</h1>\n",
    "<div class=\"content\">\n",
    "    <div class=\"item1\">\n",
    "        <a href=\"http://example.com/one\" class=\"red\" id=\"link1\">First</a>\n",
    "        <a href=\"http://example.com/two\" class=\"red\" id=\"link2\">Second</a>\n",
    "    </div>\n",
    "    <a href=\"http://example.com/three\" class=\"blue\" id=\"link3\">\n",
    "        <img src=\"http://example.com/three.jpg\">Third\n",
    "    </a>\n",
    "</div>\n",
    "\"\"\"\n",
    "\n",
    "from bs4 import BeautifulSoup\n",
    "sp = BeautifulSoup(html,'lxml') \n",
    "\n",
    "print(sp.title) # <title>網頁標題</title>\n",
    "\n",
    "print(sp.find('h1')) # <h1>文件標題</h1>\n",
    "\n",
    "print(sp.find_all('a')) \n",
    "print(sp.find_all(\"a\", {\"class\":\"red\"}))\n",
    "\n",
    "data1=sp.find(\"a\", {\"href\":\"http://example.com/one\"})\n",
    "print(data1.text) # First\n",
    "\n",
    "data2 = sp.select(\"#link1\") \n",
    "print(data2[0].text) # First\n",
    "print(data2[0].get(\"href\")) # http://example.com/one\n",
    "print(data2[0][\"href\"])     # http://example.com/one\n",
    "\n",
    "print(sp.find_all(['title','h1'])) # [<title>網頁標題</title>, <h1>文件標題</h1>]\n",
    "\n",
    "print(sp.select('div img')[0]['src']) # http://example.com/three.jpg"
   ]
  },
  {
   "cell_type": "code",
   "execution_count": null,
   "id": "324dc051-f0bf-4d89-aed1-19edbde5fbda",
   "metadata": {},
   "outputs": [],
   "source": [
    "from selenium import webdriver\n",
    "# 高鐵時刻表查詢網站\n",
    "url = 'http://www.thsrc.com.tw/tw/TimeTable/SearchResult'\n",
    "ss='台中站'      #出發站\n",
    "es='台北站'      #到達站\n",
    "\n",
    "# 建立瀏覽器物件開啟網站\n",
    "driver = webdriver.Chrome()\n",
    "driver.get(url)\n",
    "#按我同意\n",
    "driver.find_element_by_xpath(\"//button[@class='swal2-confirm swal2-styled']\").click()\n",
    "#輸入出發站\n",
    "driver.find_element_by_id('select_location01').send_keys(ss) \n",
    "# #輸入到達站\n",
    "driver.find_element_by_id('select_location02').send_keys(es)   \n",
    "#輸入日期\n",
    "driver.find_element_by_id(\"Departdate03\").click()\n",
    "driver.find_element_by_xpath(\"//div[@id='tot-1']/div/div/ul/li/div/div/table/tbody/tr[2]/td[1]\").click()\n",
    "# #輸入時間\n",
    "driver.find_element_by_id(\"outWardTime\").click()\n",
    "driver.find_element_by_xpath(\"//div[@id='tot-1']/div[2]/div/ul/li[2]/div/div/table/tr[3]/td[3]/a/i\").click()\n",
    "driver.find_element_by_id('start-search').click() #按查詢鈕"
   ]
  },
  {
   "cell_type": "code",
   "execution_count": null,
   "id": "4c0e9d2e-8dd4-4621-a875-91037adca08e",
   "metadata": {},
   "outputs": [],
   "source": [
    "from selenium import webdriver\n",
    "\n",
    "url = 'https://news.pts.org.tw/curation/120'\n",
    "driver = webdriver.Chrome('/programing/swiftx/chromedriver-win64/chromedriver.exe')\n",
    "html = rq.get(url)\n",
    "sp = soup(html.text, 'lxml')\n",
    "\n",
    "title = sp.select('h1', class_='text-center')\n",
    "summary = driver.select('div', class_='topic-summery position-relative', 'p')\n",
    "summary"
   ]
  },
  {
   "cell_type": "code",
   "execution_count": null,
   "id": "4cee51d4-85df-43f3-be71-7bed1212c997",
   "metadata": {},
   "outputs": [],
   "source": []
  }
 ],
 "metadata": {
  "kernelspec": {
   "display_name": "Python 3 (ipykernel)",
   "language": "python",
   "name": "python3"
  },
  "language_info": {
   "codemirror_mode": {
    "name": "ipython",
    "version": 3
   },
   "file_extension": ".py",
   "mimetype": "text/x-python",
   "name": "python",
   "nbconvert_exporter": "python",
   "pygments_lexer": "ipython3",
   "version": "3.10.11"
  }
 },
 "nbformat": 4,
 "nbformat_minor": 5
}
