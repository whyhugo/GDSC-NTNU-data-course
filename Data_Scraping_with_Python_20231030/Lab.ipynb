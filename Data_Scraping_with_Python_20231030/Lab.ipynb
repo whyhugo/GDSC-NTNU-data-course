{
 "cells": [
  {
   "cell_type": "markdown",
   "id": "d87dd22d-7e46-4b03-8e80-1bf05d5f4dce",
   "metadata": {},
   "source": [
    "# Web Scraping with Python\n",
    "> GDSC NTNU<br>\n",
    "> 講者：Hugo"
   ]
  },
  {
   "cell_type": "code",
   "execution_count": null,
   "id": "34649a24-db85-41e8-b6b0-1d1e35efb5fe",
   "metadata": {},
   "outputs": [],
   "source": [
    "import requests as rq\n",
    "from bs4 import BeautifulSoup as soup\n",
    "from selenium import webdriver\n",
    "import time"
   ]
  },
  {
   "cell_type": "markdown",
   "id": "545a793e-0274-44a7-a548-852b1a0393cf",
   "metadata": {},
   "source": [
    "## Requests\n",
    "### 發送 GET 請求"
   ]
  },
  {
   "cell_type": "code",
   "execution_count": null,
   "id": "86b675b2-4e0d-4068-bd17-d31bdaa1f2b3",
   "metadata": {},
   "outputs": [],
   "source": [
    "r = rq.get(\"https://www.google.com\")\n",
    "print(r.status_code) #content #status_code"
   ]
  },
  {
   "cell_type": "code",
   "execution_count": null,
   "id": "11531f45-b5e7-4b19-81d2-44c1e88726b3",
   "metadata": {
    "scrolled": true
   },
   "outputs": [],
   "source": [
    "r = rq.get(\"https://www.google.com\")\n",
    "if r.status_code == rq.codes.ok:\n",
    "    print(r.text)"
   ]
  },
  {
   "cell_type": "code",
   "execution_count": null,
   "id": "a2b467f6-c6c3-4bf7-af6b-629867cda1c2",
   "metadata": {},
   "outputs": [],
   "source": [
    "payload = {'key1': 'value1', 'key2': 'value2'}\n",
    "html = rq.get(\"http://httpbin.org/get\", params=payload)\n",
    "print(html.text)"
   ]
  },
  {
   "cell_type": "markdown",
   "id": "d9bb142b-e065-406d-8a71-8a509f6a2aba",
   "metadata": {},
   "source": [
    "### 發送 POST 請求"
   ]
  },
  {
   "cell_type": "code",
   "execution_count": null,
   "id": "a3b266a8-b4b9-4858-84eb-7fa7dba623fc",
   "metadata": {},
   "outputs": [],
   "source": [
    "payload = {'key1': 'value1', 'key2': 'value2'}\n",
    "r = rq.post(\"http://httpbin.org/post\", data=payload)\n",
    "print(r.text)"
   ]
  },
  {
   "cell_type": "markdown",
   "id": "a5310b88-509f-4484-893f-04e5ac6c55cd",
   "metadata": {},
   "source": [
    "### Lab01: 刷點閱次數 OuO"
   ]
  },
  {
   "cell_type": "code",
   "execution_count": null,
   "id": "c025e317-4b7d-49a7-b62e-f8ff9efc98f4",
   "metadata": {},
   "outputs": [],
   "source": [
    "url = 'https://www.aa.ntnu.edu.tw/zh_tw/News/%E6%AD%A1%E8%BF%8E%E5%8F%83%E5%8A%A011%E6%9C%8816%E6%97%A5%E8%87%AA%E4%B8%BB%E5%AD%B8%E7%BF%92%E5%B0%88%E9%A1%8C%E6%8E%A2%E7%A9%B6%E7%B6%93%E9%A9%97%E5%88%86%E4%BA%AB%E6%9C%83-81001976'\n",
    "\n",
    "times = int(input('我要新增點閱次數？次'))\n",
    "\n",
    "for i in range(times):\n",
    "    rq.get(url)\n",
    "    time.sleep(2)\n",
    "print('Done!')"
   ]
  },
  {
   "cell_type": "code",
   "execution_count": null,
   "id": "5e7de35a-5aed-4e74-8b24-7b6b4243d9b2",
   "metadata": {},
   "outputs": [],
   "source": [
    "url = \"https://www.w3schools.com/images/w3lynx_200.png\"\n",
    "path = \"./Ch05/fchart05.png\"\n",
    "response = rq.get(url, stream=True)\n",
    "if response.status_code == 200:\n",
    "    with open(path, 'wb') as fp:\n",
    "        for chunk in response:\n",
    "            fp.write(chunk)\n",
    "    print(\"圖檔已經下載\")        \n",
    "else:\n",
    "    print(\"錯誤! HTTP請求失敗...\")"
   ]
  },
  {
   "cell_type": "markdown",
   "id": "c496a3a3-c5e9-40b5-ab2c-a1a73c9bdcdb",
   "metadata": {},
   "source": [
    "## Beautiful Soup"
   ]
  },
  {
   "cell_type": "markdown",
   "id": "9058a919-ccc7-43b1-ab92-63689f0e78af",
   "metadata": {},
   "source": [
    "常用屬性"
   ]
  },
  {
   "cell_type": "code",
   "execution_count": null,
   "id": "153e73d9-0a2f-4026-acb2-9b29230edd12",
   "metadata": {},
   "outputs": [],
   "source": [
    "url = 'https://www.nationalgeographic.com/premium/article/remove-carbon-emissions'\n",
    "html = rq.get(url)\n",
    "html.encoding = 'UTF-8'\n",
    "sp = soup(html.text, 'lxml')\n",
    "\n",
    "print(sp.title)\n",
    "print(sp.title.text)\n",
    "print(sp.h1)\n",
    "print(sp.p)"
   ]
  },
  {
   "cell_type": "markdown",
   "id": "b4602101-fd28-45a0-9e84-cae41e8d72fd",
   "metadata": {},
   "source": [
    "`find()` & `find_all()`"
   ]
  },
  {
   "cell_type": "code",
   "execution_count": null,
   "id": "0b276251-9c0a-4801-bc08-74916a8cf35a",
   "metadata": {},
   "outputs": [],
   "source": [
    "html = '''\n",
    "<html>\n",
    "    <head>\n",
    "        <meta charset=\"UTF-8\">\n",
    "        <title> Website title </title>\n",
    "    </head>\n",
    "    <body>\n",
    "        <p id=\"p1\"> Section 1 </p>\n",
    "        <p id=\"p2\" class='red'> Section 2 </p>\n",
    "    </body>\n",
    "</html>\n",
    "'''\n",
    "sp = soup(html, 'lxml')\n",
    "print(sp.find('p'))\n",
    "print(sp.find_all('p'))\n",
    "print(sp.find('p', {'id':'p2', 'class':'red'}))\n",
    "print(sp.find('p', id='p2', class_= 'red'))"
   ]
  },
  {
   "cell_type": "markdown",
   "id": "7a1845e6-1e47-413c-8a07-cb7aa1e8367e",
   "metadata": {},
   "source": [
    "`select()`"
   ]
  },
  {
   "cell_type": "code",
   "execution_count": null,
   "id": "8651ed00-626f-43b1-9cc9-1b029ee57dd1",
   "metadata": {},
   "outputs": [],
   "source": [
    "html = '''\n",
    "<html>\n",
    "    <head>\n",
    "        <title> Website title </title>\n",
    "    </head>\n",
    "    <body>\n",
    "        <p id=\"p1\"> Section 1 </p>\n",
    "        <p id=\"p2\" class='red'> Section 2 </p>\n",
    "    </body>\n",
    "</html>\n",
    "'''\n",
    "sp = soup(html, 'lxml')\n",
    "print(sp.select('title'))\n",
    "print(sp.select('p'))\n",
    "print(sp.select('#p2')) #快速取 id\n",
    "print(sp.select('.red')) #快速取 class"
   ]
  },
  {
   "cell_type": "code",
   "execution_count": null,
   "id": "2fef587e-f29c-4caf-af81-30a0401b00f6",
   "metadata": {},
   "outputs": [],
   "source": [
    "html = '''\n",
    "<html>\n",
    "    <head>\n",
    "        <title> Website title </title>\n",
    "    </head>\n",
    "    <body>\n",
    "        <img src=\"https://upload.wikimedia.org/wikipedia/zh/thumb/c/c3/National_Taiwan_Normal_University_logo.svg/300px-National_Taiwan_Normal_University_logo.svg.png\">\n",
    "        <a href=\"https://www.ntnu.edu.tw/\"> NTNU(click me) </a>\n",
    "    </body>\n",
    "</html>\n",
    "'''\n",
    "sp = soup(html, 'lxml')\n",
    "print(sp.select('img')[0].get('src'))\n",
    "print(sp.select('a')[0].get('href'))\n",
    "print(sp.select('img')[0]['src'])\n",
    "print(sp.select('a')[0]['href'])"
   ]
  },
  {
   "cell_type": "code",
   "execution_count": null,
   "id": "287f96db-f3bf-455c-ba61-34ef5bc27aef",
   "metadata": {},
   "outputs": [],
   "source": [
    "html = \"\"\"\n",
    "<html>\n",
    "    <head>\n",
    "        <title> Website title </title>\n",
    "    </head>\n",
    "    <h1> h1 title </h1>\n",
    "    <div class=\"content\">\n",
    "    <div class=\"item1\">\n",
    "        <a href=\"http://example.com/one\" class=\"red\" id=\"link1\"> First </a>\n",
    "        <a href=\"http://example.com/two\" class=\"red\" id=\"link2\"> Second </a>\n",
    "    </div>\n",
    "    <a href=\"http://example.com/three\" class=\"blue\" id=\"link3\">\n",
    "        <img src=\"http://example.com/three.jpg\">Third\n",
    "    </a>\n",
    "</div>\n",
    "\"\"\"\n",
    "\n",
    "sp = soup(html,'lxml') \n",
    "\n",
    "print(sp.title)\n",
    "\n",
    "print(sp.find('h1'))\n",
    "\n",
    "print(sp.find_all('a')) \n",
    "print(sp.find_all(\"a\", {\"class\":\"red\"}))\n",
    "\n",
    "data1=sp.find(\"a\", {\"href\":\"http://example.com/one\"})\n",
    "print(data1.text) # First\n",
    "\n",
    "data2 = sp.select(\"#link1\") \n",
    "print(data2[0].text)\n",
    "print(data2[0].get(\"href\"))\n",
    "print(data2[0][\"href\"])\n",
    "\n",
    "print(sp.find_all(['title','h1']))\n",
    "\n",
    "print(sp.select('div img')[0]['src'])\n",
    "\n",
    "print(sp.select('div.item1 > a'))"
   ]
  },
  {
   "cell_type": "markdown",
   "id": "8fedbece-a5e3-4ceb-9485-6be4ecd793e8",
   "metadata": {},
   "source": [
    "### Lab02: 獲取新聞文本"
   ]
  },
  {
   "cell_type": "code",
   "execution_count": null,
   "id": "4c0e9d2e-8dd4-4621-a875-91037adca08e",
   "metadata": {},
   "outputs": [],
   "source": [
    "url = 'https://news.pts.org.tw/curation/120'\n",
    "\n",
    "html = rq.get(url)\n",
    "sp = soup(html.text, 'lxml')\n",
    "\n",
    "title = sp.find('h1', class_='text-center').text\n",
    "print('# 標題\\n', title)\n",
    "\n",
    "summary = sp.find('div', class_='topic-summery position-relative').find('p').text\n",
    "print('\\n## 引言\\n', summary)\n",
    "\n",
    "subtitle = sp.find_all('h2', class_='title-col')\n",
    "print('\\n## 副標題')\n",
    "for i in subtitle:\n",
    "    print(i.text)\n",
    "\n",
    "content = sp.find_all('p')\n",
    "print('\\n## 內文')\n",
    "for j in content:\n",
    "    print(j.text)"
   ]
  },
  {
   "cell_type": "markdown",
   "id": "340c2e04-bedc-4ffe-be2c-b3e1b55f9733",
   "metadata": {},
   "source": [
    "## Selenium"
   ]
  },
  {
   "cell_type": "markdown",
   "id": "c17e096c-6012-4084-8a37-feb44307ea6a",
   "metadata": {},
   "source": [
    "### Lab03: 爬取 MLB.com stats"
   ]
  },
  {
   "cell_type": "code",
   "execution_count": null,
   "id": "52949ffd-49df-4943-af89-729d179e6f64",
   "metadata": {},
   "outputs": [],
   "source": [
    "# mlb_stats_crawler.ipynb"
   ]
  },
  {
   "cell_type": "markdown",
   "id": "bbb60fa0-1512-4d05-8120-1058a4b7bdd7",
   "metadata": {},
   "source": [
    "## It's your turn🫵\n",
    "### 如何快速存取表格資料"
   ]
  },
  {
   "cell_type": "code",
   "execution_count": null,
   "id": "a498177e-b72f-4161-bdf3-ce5ba388afc3",
   "metadata": {},
   "outputs": [],
   "source": [
    "import pandas as pd\n",
    "from selenium.webdriver.common.by import By\n",
    "from selenium.webdriver.chrome.options import Options\n",
    "\n",
    "chrome_options = Options()\n",
    "chrome_options.add_argument('--headless')\n",
    "\n",
    "url = 'https://www.aa.ntnu.edu.tw/zh_tw/News?category%5B%5D=6331b9713817848ea26d27b5&category%5B%5D=6331b9713817848ea26d27b6&category%5B%5D=6331b9713817848ea26d27b7&category%5B%5D=6331b9713817848ea26d27b8&category%5B%5D=6331ed7b381784be12bdd622&tags%5B%5D=all'\n",
    "driver = webdriver.Chrome('/programing/swiftx/chromedriver-win64/chromedriver.exe', options=chrome_options)\n",
    "html = driver.get(url)\n",
    "sp = soup(driver.page_source, 'lxml')\n",
    "\n",
    "table = driver.find_element(By.XPATH, '//*[@id=\"DataTables_Table_0\"]').get_attribute('outerHTML')\n",
    "df = pd.read_html(str(table))\n",
    "df[0].to_csv(\"bulletin board.csv\", index=False)"
   ]
  },
  {
   "cell_type": "markdown",
   "id": "91d93bd2-ad1c-422d-8148-6ae243b0682a",
   "metadata": {},
   "source": [
    "### 爬取 NBA.com stats"
   ]
  },
  {
   "cell_type": "code",
   "execution_count": null,
   "id": "efece0e0-66f3-4deb-a8ee-7009b47fd1e0",
   "metadata": {},
   "outputs": [],
   "source": [
    "# your code"
   ]
  },
  {
   "cell_type": "code",
   "execution_count": null,
   "id": "5c36fe5f-e359-4486-b49c-5c213e2491c9",
   "metadata": {},
   "outputs": [],
   "source": []
  }
 ],
 "metadata": {
  "kernelspec": {
   "display_name": "Python 3 (ipykernel)",
   "language": "python",
   "name": "python3"
  },
  "language_info": {
   "codemirror_mode": {
    "name": "ipython",
    "version": 3
   },
   "file_extension": ".py",
   "mimetype": "text/x-python",
   "name": "python",
   "nbconvert_exporter": "python",
   "pygments_lexer": "ipython3",
   "version": "3.10.11"
  }
 },
 "nbformat": 4,
 "nbformat_minor": 5
}
