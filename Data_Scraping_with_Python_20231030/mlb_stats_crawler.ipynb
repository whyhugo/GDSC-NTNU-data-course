{
 "cells": [
  {
   "cell_type": "markdown",
   "id": "17ae72e3-679d-404d-981c-0ccc642898af",
   "metadata": {},
   "source": [
    "# MLB.com stats crawler\n",
    "https://github.com/whyhugo/Data-Analysis-in-Sports\n",
    "> Please input the URL which can get from https://www.mlb.com/stats"
   ]
  },
  {
   "cell_type": "code",
   "execution_count": null,
   "id": "171cbed5-64b8-4e02-a155-cd899e4f5583",
   "metadata": {},
   "outputs": [],
   "source": [
    "import requests as rq\n",
    "import pandas as pd\n",
    "from bs4 import BeautifulSoup as soup\n",
    "from selenium import webdriver\n",
    "from selenium.webdriver.chrome.options import Options\n",
    "from selenium.webdriver.common.by import By\n",
    "from lxml import etree\n",
    "import time"
   ]
  },
  {
   "cell_type": "code",
   "execution_count": null,
   "id": "1e9a4871-a059-4c61-a2d6-2c97bf977eff",
   "metadata": {},
   "outputs": [],
   "source": [
    "\n",
    "chrome_options = Options()\n",
    "chrome_options.add_argument('--headless')\n",
    "\n",
    "\n",
    "\n",
    "url = input('URL:')\n",
    "driver = webdriver.Chrome('/programing/swiftx/chromedriver-win64/chromedriver.exe', options=chrome_options)\n",
    "html = driver.get(url)\n",
    "sp = soup(driver.page_source, 'html.parser')"
   ]
  },
  {
   "cell_type": "markdown",
   "id": "4a909c63-2cce-4447-a286-abac4cc1d7c2",
   "metadata": {},
   "source": [
    "get player index\n",
    "```python\n",
    "index_list = []\n",
    "index = sp.find_all(class_ = 'index-3cdMSKi7')\n",
    "for i in range(0, len(index), 2):\n",
    "    index_list.append(index[i].text)\n",
    "```"
   ]
  },
  {
   "cell_type": "code",
   "execution_count": null,
   "id": "8fe3a32b-ca2d-4a2a-bfed-502722c905d0",
   "metadata": {},
   "outputs": [],
   "source": [
    "# get player name\n",
    "def get_player_name():\n",
    "    player_list = []\n",
    "    player = sp.find_all(class_ = 'full-3fV3c9pF')\n",
    "    for i in range(0, len(player), 2):\n",
    "        player_list.append(player[i].text + ' ' + player[i+1].text)\n",
    "    return player_list"
   ]
  },
  {
   "cell_type": "code",
   "execution_count": null,
   "id": "134cf2f0-79f7-4b6b-8c7a-15091909560a",
   "metadata": {},
   "outputs": [],
   "source": [
    "# get player's position\n",
    "def get_player_position():\n",
    "    position_list = []\n",
    "    position = sp.find_all(class_ = 'position-28TbwVOg')\n",
    "    for i in position:\n",
    "        position_list.append(i.text)\n",
    "    return position_list"
   ]
  },
  {
   "cell_type": "code",
   "execution_count": null,
   "id": "740ae55e-fbaf-42a1-9605-e403716df217",
   "metadata": {},
   "outputs": [],
   "source": [
    "def get_column_name():\n",
    "    click_standard_button()\n",
    "    sp = soup(driver.page_source, 'html.parser')\n",
    "    \n",
    "    data_column_name = ['PLAYER', 'POSITION', 'TEAM']\n",
    "    temp = sp.find_all(class_ = 'bui-text cellheader bui-text')\n",
    "    for i in range(4, len(temp), 2):\n",
    "        data_column_name.append(temp[i].text)\n",
    "    temp = sp.find_all(class_ = 'bui-text cellheader selected-1vxxHvFg bui-text')\n",
    "    for i in range(0, len(temp), 2):\n",
    "        data_column_name.append(temp[i].text)\n",
    "\n",
    "    click_expanded_button()\n",
    "    sp = soup(driver.page_source, 'html.parser')\n",
    "    temp = sp.find_all(class_ = 'bui-text cellheader bui-text')\n",
    "    for i in range(4, len(temp), 2):\n",
    "        data_column_name.append(temp[i].text)\n",
    "        \n",
    "    return data_column_name"
   ]
  },
  {
   "cell_type": "code",
   "execution_count": null,
   "id": "a6776745-2449-44d0-8518-780fb4645a53",
   "metadata": {},
   "outputs": [],
   "source": [
    "# click standard button\n",
    "def click_standard_button():\n",
    "    time.sleep(3)\n",
    "    driver.find_element('xpath', '//*[@id=\"stats-app-root\"]/section/section/div[1]/div[2]/div/div[1]/div/div[1]/button').click()\n",
    "    driver.find_element('xpath', '//*[@id=\"stats-app-root\"]/section/section/div[1]/div[2]/div/div[1]/div/div[1]/button').click()\n",
    "    time.sleep(3)\n",
    "    sp = soup(driver.page_source, 'html.parser')"
   ]
  },
  {
   "cell_type": "code",
   "execution_count": null,
   "id": "0f7592e5-181e-478e-9497-acc7f73aa71e",
   "metadata": {},
   "outputs": [],
   "source": [
    "# click expanded button\n",
    "def click_expanded_button():\n",
    "    time.sleep(3)\n",
    "    driver.find_element('xpath', '//*[@id=\"stats-app-root\"]/section/section/div[1]/div[2]/div/div[1]/div/div[2]/button').click()\n",
    "    driver.find_element('xpath', '//*[@id=\"stats-app-root\"]/section/section/div[1]/div[2]/div/div[1]/div/div[2]/button').click()\n",
    "    time.sleep(3)"
   ]
  },
  {
   "cell_type": "code",
   "execution_count": null,
   "id": "bdf7139e-0a76-494a-a149-0356e4f4fa46",
   "metadata": {},
   "outputs": [],
   "source": [
    "# click next page button\n",
    "def click_next_page_button():\n",
    "    time.sleep(3)\n",
    "    driver.find_element('xpath', '//*[@id=\"stats-app-root\"]/section/section/div[3]/div[2]/div/div/div[2]/button').click()\n",
    "    time.sleep(3)\n",
    "    sp = soup(driver.page_source, 'html.parser')"
   ]
  },
  {
   "cell_type": "code",
   "execution_count": null,
   "id": "3c81e738-20a0-4c63-ae6f-20156bc06c41",
   "metadata": {
    "scrolled": true
   },
   "outputs": [],
   "source": [
    "# get standard data\n",
    "def get_data():\n",
    "    data = []\n",
    "    \n",
    "    click_standard_button()\n",
    "    sp = soup(driver.page_source, 'html.parser')\n",
    "    standard_data = []\n",
    "    tt = sp.select('#stats-app-root tr td')\n",
    "    for i in tt:\n",
    "        standard_data.append(i.text)\n",
    "    \n",
    "    click_expanded_button()\n",
    "    sp = soup(driver.page_source, 'html.parser')\n",
    "    expanded_data = []\n",
    "    tt = sp.select('#stats-app-root tr td')\n",
    "    for i in tt:\n",
    "        expanded_data.append(i.text)\n",
    "\n",
    "    for i in range(len(standard_data)//17):\n",
    "        data.extend(standard_data[i*17:i*17+17])\n",
    "        data.extend(expanded_data[i*16+1:i*16+16])\n",
    "\n",
    "    return data"
   ]
  },
  {
   "cell_type": "markdown",
   "id": "4226eeca-2b41-4225-adbd-f8e8f2e89c15",
   "metadata": {},
   "source": [
    "```python\n",
    "html = driver.get(url) \n",
    "# 有時候會 get 不完整，可以用這邊 reload 一次 XD\n",
    "```"
   ]
  },
  {
   "cell_type": "code",
   "execution_count": null,
   "id": "5abc06f7-feeb-41a2-97a3-e932f47973e9",
   "metadata": {},
   "outputs": [],
   "source": [
    "try:\n",
    "    df_list = []\n",
    "    while True:\n",
    "        sp = soup(driver.page_source, 'html.parser')\n",
    "        print('page start')\n",
    "        time.sleep(2)\n",
    "        name = get_player_name()\n",
    "        time.sleep(2)\n",
    "        position = get_player_position()\n",
    "        time.sleep(2)\n",
    "        current_data = get_data()\n",
    "        time.sleep(2)\n",
    "        for i in range(len(name)):\n",
    "            row = []\n",
    "            row.append(name[i])\n",
    "            row.append(position[i])\n",
    "            row.extend(current_data[i*32:i*32+32])\n",
    "            df_list.append(row)\n",
    "        click_next_page_button()\n",
    "except:\n",
    "    print('This is the last page :)')"
   ]
  },
  {
   "cell_type": "code",
   "execution_count": null,
   "id": "b47b2966-5507-4725-9337-8caff8782a6b",
   "metadata": {},
   "outputs": [],
   "source": [
    "df = pd.DataFrame(df_list, columns=get_column_name())\n",
    "df"
   ]
  },
  {
   "cell_type": "code",
   "execution_count": null,
   "id": "94332274-5197-444b-a1f1-e734ad460546",
   "metadata": {},
   "outputs": [],
   "source": [
    "df.to_csv('mlb_stats_test.csv', index=False, encoding='utf-8')"
   ]
  },
  {
   "cell_type": "code",
   "execution_count": null,
   "id": "93732443-c8dd-498a-af82-e0cd0c479824",
   "metadata": {},
   "outputs": [],
   "source": [
    "driver.quit()"
   ]
  },
  {
   "cell_type": "code",
   "execution_count": null,
   "id": "c4d6c54b-fde2-4d81-9840-9efa2b1a18ef",
   "metadata": {},
   "outputs": [],
   "source": []
  }
 ],
 "metadata": {
  "kernelspec": {
   "display_name": "Python 3 (ipykernel)",
   "language": "python",
   "name": "python3"
  },
  "language_info": {
   "codemirror_mode": {
    "name": "ipython",
    "version": 3
   },
   "file_extension": ".py",
   "mimetype": "text/x-python",
   "name": "python",
   "nbconvert_exporter": "python",
   "pygments_lexer": "ipython3",
   "version": "3.10.11"
  }
 },
 "nbformat": 4,
 "nbformat_minor": 5
}
